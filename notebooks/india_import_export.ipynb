{
 "cells": [
  {
   "cell_type": "code",
   "execution_count": 67,
   "metadata": {
    "pycharm": {
     "name": "#%%\n"
    }
   },
   "outputs": [],
   "source": [
    "import pandas as pd\n",
    "import numpy as np\n",
    "import matplotlib.pyplot as plt\n",
    "import seaborn as sns\n",
    "import cufflinks as cf\n",
    "import plotly.graph_objs as go"
   ]
  },
  {
   "cell_type": "code",
   "execution_count": 68,
   "metadata": {
    "pycharm": {
     "name": "#%%\n"
    }
   },
   "outputs": [
    {
     "data": {
      "text/html": "        <script type=\"text/javascript\">\n        window.PlotlyConfig = {MathJaxConfig: 'local'};\n        if (window.MathJax) {MathJax.Hub.Config({SVG: {font: \"STIX-Web\"}});}\n        if (typeof require !== 'undefined') {\n        require.undef(\"plotly\");\n        requirejs.config({\n            paths: {\n                'plotly': ['https://cdn.plot.ly/plotly-latest.min']\n            }\n        });\n        require(['plotly'], function(Plotly) {\n            window._Plotly = Plotly;\n        });\n        }\n        </script>\n        "
     },
     "metadata": {},
     "output_type": "display_data"
    }
   ],
   "source": [
    "# Use plotly in offline mode\n",
    "cf.go_offline()"
   ]
  },
  {
   "cell_type": "code",
   "execution_count": 69,
   "metadata": {
    "pycharm": {
     "name": "#%%\n"
    }
   },
   "outputs": [],
   "source": [
    "import_data = pd.read_csv('../data/import_data_india.csv')\n",
    "export_data = pd.read_csv('../data/export_data_india.csv')"
   ]
  },
  {
   "cell_type": "code",
   "execution_count": 70,
   "metadata": {
    "colab": {
     "base_uri": "https://localhost:8080/",
     "height": 238
    },
    "colab_type": "code",
    "executionInfo": {
     "elapsed": 904,
     "status": "ok",
     "timestamp": 1588338242374,
     "user": {
      "displayName": "shiva raj",
      "photoUrl": "",
      "userId": "05869979791061297161"
     },
     "user_tz": -330
    },
    "id": "binYrpNSmaqw",
    "outputId": "9778c8e2-c743-4b58-f134-5aaf442f20a5"
   },
   "outputs": [
    {
     "name": "stdout",
     "output_type": "stream",
     "text": [
      "<class 'pandas.core.frame.DataFrame'>\n",
      "RangeIndex: 106985 entries, 0 to 106984\n",
      "Data columns (total 6 columns):\n",
      " #   Column         Non-Null Count   Dtype \n",
      "---  ------         --------------   ----- \n",
      " 0   country        106985 non-null  object\n",
      " 1   countrycode    106985 non-null  int64 \n",
      " 2   hscode         106985 non-null  int64 \n",
      " 3   commodity      106982 non-null  object\n",
      " 4   importinlakhs  98628 non-null   object\n",
      " 5   year           106985 non-null  int64 \n",
      "dtypes: int64(3), object(3)\n",
      "memory usage: 4.9+ MB\n",
      "None\n",
      "<class 'pandas.core.frame.DataFrame'>\n",
      "RangeIndex: 114282 entries, 0 to 114281\n",
      "Data columns (total 6 columns):\n",
      " #   Column         Non-Null Count   Dtype \n",
      "---  ------         --------------   ----- \n",
      " 0   country        114282 non-null  object\n",
      " 1   countrycode    114282 non-null  int64 \n",
      " 2   hscode         114282 non-null  int64 \n",
      " 3   commodity      114282 non-null  object\n",
      " 4   importinlakhs  109069 non-null  object\n",
      " 5   year           114282 non-null  int64 \n",
      "dtypes: int64(3), object(3)\n",
      "memory usage: 5.2+ MB\n",
      "None\n"
     ]
    }
   ],
   "source": [
    "print(import_data.info())\n",
    "print(export_data.info())"
   ]
  },
  {
   "cell_type": "code",
   "execution_count": 71,
   "outputs": [],
   "source": [
    "# Drop Nan values in commodity column as the number of NaNs are very low\n",
    "import_data.dropna(subset=['commodity'], inplace=True)\n",
    "export_data.dropna(subset=['commodity'], inplace=True)\n",
    "\n",
    "# Fill NaN values with 0 as it could mean there was no trade done at all\n",
    "#TODO: Need to verify this.\n",
    "import_data['commodity'].fillna(value=0, inplace=True)\n",
    "export_data['commodity'].fillna(value=0, inplace=True)"
   ],
   "metadata": {
    "collapsed": false,
    "pycharm": {
     "name": "#%%\n"
    }
   }
  },
  {
   "cell_type": "code",
   "execution_count": 72,
   "outputs": [],
   "source": [
    "apparel = ('ARTICLES OF APPAREL AND CLOTHING ACCESSORIES; NOT KNITTED OR CROCHETED.', 'ARTICLES OF APPAREL AND CLOTHING ACCESSORIES; KNITTED OR CORCHETED.', 'ARTICLES OF APPAREL AND CLOTHING ACCESSORIESMADE OF WILD ANIMALS COVERED UNDER WILD LIFE PROTECTION ACT')\n",
    "\n",
    "import_data['commodity'].replace(to_replace=apparel, value='Apparel', inplace=True)"
   ],
   "metadata": {
    "collapsed": false,
    "pycharm": {
     "name": "#%%\n"
    }
   }
  },
  {
   "cell_type": "code",
   "execution_count": 73,
   "outputs": [
    {
     "data": {
      "text/plain": "Apparel    2016\nName: commodity, dtype: int64"
     },
     "execution_count": 73,
     "metadata": {},
     "output_type": "execute_result"
    }
   ],
   "source": [
    "# import_data[import_data['commodity'].isin(apparel)]['commodity'].value_counts()\n",
    "import_data[import_data['commodity'] == 'Apparel']['commodity'].value_counts()"
   ],
   "metadata": {
    "collapsed": false,
    "pycharm": {
     "name": "#%%\n"
    }
   }
  },
  {
   "cell_type": "code",
   "execution_count": 74,
   "metadata": {
    "pycharm": {
     "name": "#%%\n"
    }
   },
   "outputs": [],
   "source": [
    "# Convert amount to Crores from lakhs.\n",
    "# importinlakhs has a weird bug from source so removing comma or semicolon from it\n",
    "import_data['value'] = import_data['importinlakhs'].str.replace(';', '').str.replace(',', '').astype(float)/100\n",
    "export_data['value'] = export_data['importinlakhs'].str.replace(';', '').str.replace(',', '').astype(float)/100"
   ]
  },
  {
   "cell_type": "code",
   "execution_count": 77,
   "outputs": [],
   "source": [
    "# Some of the commodities are similar, merge them into one or many\n",
    "\n",
    "import_mappings = [('MINERAL FUELS; MINERAL OILS AND PRODUCTS OF THEIR DISTILLATION; BITUMINOUS SUBSTANCES; MINERAL WAXES.', 'Minerals'),\n",
    "       ('NATURAL OR CULTURED PEARLS;PRECIOUS OR SEMIPRECIOUS STONES,PRE.METALS,CLAD WITH PRE.METAL AND ARTCLS THEREOF;IMIT.JEWLRY;COIN.', 'Gold(Metals)'),\n",
    "       ('ELECTRICAL MACHINERY AND EQUIPMENT AND PARTS THEREOF; SOUND RECORDERS AND REPRODUCERS; TELEVISION IMAGE AND SOUND RECORDERS AND REPRODUCERS,AND PARTS.', 'Electrical'),\n",
    "       ('NUCLEAR REACTORS; BOILERS, MACHINERY AND MECHANICAL APPLIANCES; PARTS THEREOF.', 'Nuclear'),\n",
    "       ('ORGANIC CHEMICALS', 'PLASTIC AND ARTICLES THEREOF.', 'IRON AND STEEL', 'Chemicals'),\n",
    "       ('ANIMAL OR VEGETABLE FATS AND OILS AND THEIR CLEAVAGE PRODUCTS; PRE. EDIBLE FATS; ANIMAL OR VEGETABLE WAXEX.', 'Edible Oil'),\n",
    "       ('OPTICAL; PHOTOGRAPHIC CINEMATOGRAPHIC MEASURING, CHECKING PRECISION, MEDICAL OR SURGICAL INST. AND APPARATUS PARTS AND ACCESSORIES THEREOF;', 'Medical Instruments'),\n",
    "       ('AIRCRAFT; SPACECRAFT, AND PARTS THEREOF.', 'Aircraft'), ('FERTILISERS.', 'Fertilizers'),\n",
    "       ('MISCELLANEOUS CHEMICAL PRODUCTS.', 'Other Chemicals'),\n",
    "       ('VEHICLES OTHER THAN RAILWAY OR TRAMWAY ROLLING STOCK; AND PARTS AND ACCESSORIES THEREOF.', 'Vehicle Related'),\n",
    "       ('ARTICLES OF IRON OR STEEL', 'Iron/Steel articles'),\n",
    "       ('INORGANIC CHEMICALS; ORGANIC OR INORGANIC COMPOUNDS OF PRECIOUS METALS; OF RARE-EARTH METALS, OR RADI. ELEM. OR OF ISOTOPES.', 'Rare Earth Metals')]\n",
    "\n",
    "export_mappings = [('MINERAL FUELS; MINERAL OILS AND PRODUCTS OF THEIR DISTILLATION; BITUMINOUS SUBSTANCES; MINERAL WAXES.', 'Minerals'),\n",
    "                         ('NATURAL OR CULTURED PEARLS;PRECIOUS OR SEMIPRECIOUS STONES,PRE.METALS,CLAD WITH PRE.METAL AND ARTCLS THEREOF;IMIT.JEWLRY;COIN.', 'Gold(Metals)'),\n",
    "                         ('NUCLEAR REACTORS; BOILERS, MACHINERY AND MECHANICAL APPLIANCES; PARTS THEREOF.', 'Nuclear'),\n",
    "                         ('ORGANIC CHEMICALS', 'CHEMICALS'),\n",
    "                         ('VEHICLES OTHER THAN RAILWAY OR TRAMWAY ROLLING STOCK; AND PARTS AND ACCESSORIES THEREOF.', 'Vehicle Related'),\n",
    "                         ('ELECTRICAL MACHINERY AND EQUIPMENT AND PARTS THEREOF; SOUND RECORDERS AND REPRODUCERS; TELEVISION IMAGE AND SOUND RECORDERS AND REPRODUCERS,AND PARTS.', 'Electrical'),\n",
    "                         ('PHARMACEUTICAL PRODUCTS', 'Pharmaceutical'), ('IRON AND STEEL', 'Iron & Steel'),\n",
    "                         ('ARTICLES OF APPAREL AND CLOTHING ACCESSORIES; KNITTED OR CORCHETED.', 'Apparel'),\n",
    "                         ('ARTICLES OF APPAREL AND CLOTHING ACCESSORIES; NOT KNITTED OR CROCHETED.', 'Apparel'),\n",
    "                         ('FISH AND CRUSTACEANS; MOLLUSCS AND OTHER AQUATIC INVERTABRATES.', 'Aquatic'),\n",
    "                         ('ARTICLES OF IRON OR STEEL', 'PLASTIC AND ARTICLES THEREOF.', 'Iron & Steel Articles'),\n",
    "                         ('ALUMINIUM AND ARTICLES THEREOF.', 'Aluminium Articles'), ('CEREALS.', 'Cereals')]\n",
    "\n",
    "for x in import_mappings:\n",
    "    import_data.replace(x[0], x[1], inplace=True)\n",
    "\n",
    "for y in export_mappings:\n",
    "    import_data.replace(y[0], y[1], inplace=True)"
   ],
   "metadata": {
    "collapsed": false,
    "pycharm": {
     "name": "#%%\n"
    }
   }
  },
  {
   "cell_type": "code",
   "execution_count": 78,
   "metadata": {
    "pycharm": {
     "name": "#%%\n"
    }
   },
   "outputs": [],
   "source": [
    "# Drop unwanted columns\n",
    "columns_to_drop = ['countrycode', 'hscode', 'importinlakhs']\n",
    "import_data.drop(columns_to_drop, axis=1, inplace=True)\n",
    "export_data.drop(columns_to_drop, axis=1, inplace=True)"
   ]
  },
  {
   "cell_type": "code",
   "execution_count": 79,
   "metadata": {
    "colab": {
     "base_uri": "https://localhost:8080/",
     "height": 204
    },
    "colab_type": "code",
    "executionInfo": {
     "elapsed": 965,
     "status": "ok",
     "timestamp": 1588338266759,
     "user": {
      "displayName": "shiva raj",
      "photoUrl": "",
      "userId": "05869979791061297161"
     },
     "user_tz": -330
    },
    "id": "7uy2MtPXELeF",
    "outputId": "515c36c4-2584-4752-a4bf-5b882661548e"
   },
   "outputs": [
    {
     "name": "stdout",
     "output_type": "stream",
     "text": [
      "   country                              commodity  year    value\n",
      "0  ALGERIA                           KABULI CHANA  2019   0.7771\n",
      "1  ALGERIA         LENTILS (MOSUR);DRIED AND SHLD  2019   0.0724\n",
      "2  ALGERIA  DRY DATES SOFT (KHAYZUR OR WET DATES)  2019  10.7641\n",
      "3  ALGERIA                         KERNELS; H.P.S  2019      NaN\n",
      "4  ALGERIA  OTHERS; DERIVED FROM VEGETBLE PRODCTS  2019   0.0009\n",
      "   country                                 commodity  year     value\n",
      "0  ALGERIA  BONELESS MEAT OF BOVINE ANIMALS ; FROZEN  2019  399.4606\n",
      "1  ALGERIA                    YELLOWFIN TUNAS FROZEN  2019    5.4880\n",
      "2  ALGERIA  SKIPJACK OR STRIPE-BELLIED BONITO FROZEN  2019    0.6328\n",
      "3  ALGERIA                        RIBBON FISH FROZEN  2019       NaN\n",
      "4  ALGERIA   CROAKERS; GROUPERS AND FLOUNDERS FROZEN  2019    0.0221\n"
     ]
    }
   ],
   "source": [
    "# Check the  data head to see if everything is in place\n",
    "print(import_data.head())\n",
    "print(export_data.head())"
   ]
  },
  {
   "cell_type": "code",
   "execution_count": 80,
   "metadata": {
    "colab": {},
    "colab_type": "code",
    "id": "jO9UiX8tGicF"
   },
   "outputs": [],
   "source": [
    "# Get top countries and commodities for both import export\n",
    "top_entries = 15\n",
    "import_top_commodities_by_value = import_data.groupby('commodity')['value'].sum().sort_values(ascending=False).head(top_entries)\n",
    "import_top_countries_by_value = import_data.groupby('country')['value'].sum().sort_values(ascending=False).head(top_entries)\n",
    "export_top_commodities_by_value = export_data.groupby('commodity')['value'].sum().sort_values(ascending=False).head(top_entries)\n",
    "export_top_countries_by_value = export_data.groupby('country')['value'].sum().sort_values(ascending=False).head(top_entries)"
   ]
  },
  {
   "cell_type": "code",
   "execution_count": 81,
   "outputs": [],
   "source": [
    "# import_top_commodities_by_value.get_index['ARTICLES OF APPAREL AND CLOTHING ACCESSORIES; NOT KNITTED OR CROCHETED.']"
   ],
   "metadata": {
    "collapsed": false,
    "pycharm": {
     "name": "#%%\n"
    }
   }
  },
  {
   "cell_type": "code",
   "execution_count": 82,
   "metadata": {
    "colab": {
     "base_uri": "https://localhost:8080/",
     "height": 476
    },
    "colab_type": "code",
    "executionInfo": {
     "elapsed": 927,
     "status": "ok",
     "timestamp": 1588338394698,
     "user": {
      "displayName": "shiva raj",
      "photoUrl": "",
      "userId": "05869979791061297161"
     },
     "user_tz": -330
    },
    "id": "UF0rP9wRI-ny",
    "outputId": "ebe01a08-3ea5-4cff-fc91-e15b2472981a"
   },
   "outputs": [
    {
     "name": "stdout",
     "output_type": "stream",
     "text": [
      "Import------------\n",
      " commodity\n",
      "Minerals                         1.948712e+07\n",
      "Gold(Metals)                     7.012213e+06\n",
      "Electrical                       6.836522e+06\n",
      "Nuclear                          5.803272e+06\n",
      "PLASTIC AND ARTICLES THEREOF.    4.624083e+06\n",
      "Iron & Steel                     1.412759e+06\n",
      "Edible Oil                       1.334368e+06\n",
      "Medical Instruments              1.200535e+06\n",
      "Aircraft                         1.014820e+06\n",
      "Fertilizers                      8.767557e+05\n",
      "Other Chemicals                  7.434184e+05\n",
      "Vehicle Related                  6.832257e+05\n",
      "Iron/Steel articles              6.299049e+05\n",
      "Rare Earth Metals                6.275485e+05\n",
      "COPPER AND ARTICLES THEREOF.     5.895299e+05\n",
      "Name: value, dtype: float64\n",
      "Export------------\n",
      " commodity\n",
      "MINERAL FUELS; MINERAL OILS AND PRODUCTS OF THEIR DISTILLATION; BITUMINOUS SUBSTANCES; MINERAL WAXES.                                                     5.426332e+06\n",
      "NATURAL OR CULTURED PEARLS;PRECIOUS OR SEMIPRECIOUS STONES,PRE.METALS,CLAD WITH PRE.METAL AND ARTCLS THEREOF;IMIT.JEWLRY;COIN.                            4.984264e+06\n",
      "NUCLEAR REACTORS; BOILERS, MACHINERY AND MECHANICAL APPLIANCES; PARTS THEREOF.                                                                            2.492758e+06\n",
      "ORGANIC CHEMICALS                                                                                                                                         2.108952e+06\n",
      "VEHICLES OTHER THAN RAILWAY OR TRAMWAY ROLLING STOCK; AND PARTS AND ACCESSORIES THEREOF.                                                                  1.881634e+06\n",
      "ELECTRICAL MACHINERY AND EQUIPMENT AND PARTS THEREOF; SOUND RECORDERS AND REPRODUCERS; TELEVISION IMAGE AND SOUND RECORDERS AND REPRODUCERS,AND PARTS.    1.839281e+06\n",
      "PHARMACEUTICAL PRODUCTS                                                                                                                                   1.702633e+06\n",
      "IRON AND STEEL                                                                                                                                            1.176263e+06\n",
      "ARTICLES OF APPAREL AND CLOTHING ACCESSORIES; KNITTED OR CORCHETED.                                                                                       9.526847e+05\n",
      "ARTICLES OF APPAREL AND CLOTHING ACCESSORIES; NOT KNITTED OR CROCHETED.                                                                                   9.134231e+05\n",
      "FISH AND CRUSTACEANS; MOLLUSCS AND OTHER AQUATIC INVERTABRATES.                                                                                           8.444182e+05\n",
      "ARTICLES OF IRON OR STEEL                                                                                                                                 8.286461e+05\n",
      "PLASTIC AND ARTICLES THEREOF.                                                                                                                             7.986735e+05\n",
      "ALUMINIUM AND ARTICLES THEREOF.                                                                                                                           6.415363e+05\n",
      "CEREALS.                                                                                                                                                  6.376946e+05\n",
      "Name: value, dtype: float64\n",
      "Import------------\n",
      " country\n",
      "CHINA P RP     9.391578e+06\n",
      "U S A          4.876562e+06\n",
      "U ARAB EMTS    4.179327e+06\n",
      "SAUDI ARAB     3.724134e+06\n",
      "IRAQ           3.213551e+06\n",
      "SWITZERLAND    2.389038e+06\n",
      "HONG KONG      2.370633e+06\n",
      "KOREA RP       2.142670e+06\n",
      "INDONESIA      2.071905e+06\n",
      "SINGAPORE      1.975065e+06\n",
      "GERMANY        1.744494e+06\n",
      "JAPAN          1.717088e+06\n",
      "NIGERIA        1.388968e+06\n",
      "AUSTRALIA      1.382602e+06\n",
      "MALAYSIA       1.374796e+06\n",
      "Name: value, dtype: float64\n",
      "Export------------\n",
      " country\n",
      "U S A              7.251547e+06\n",
      "U ARAB EMTS        3.934149e+06\n",
      "CHINA P RP         2.341364e+06\n",
      "HONG KONG          1.509734e+06\n",
      "SINGAPORE          1.235097e+06\n",
      "U K                1.198962e+06\n",
      "NETHERLAND         1.148966e+06\n",
      "GERMANY            1.094908e+06\n",
      "BANGLADESH PR      1.087601e+06\n",
      "NEPAL              9.771026e+05\n",
      "MALAYSIA           8.658880e+05\n",
      "BELGIUM            8.162456e+05\n",
      "SAUDI ARAB         8.131447e+05\n",
      "VIETNAM SOC REP    7.160489e+05\n",
      "FRANCE             7.033377e+05\n",
      "Name: value, dtype: float64\n"
     ]
    }
   ],
   "source": [
    "print(\"Import------------\\n\", import_top_commodities_by_value)\n",
    "print(\"Export------------\\n\", export_top_commodities_by_value)\n",
    "print(\"Import------------\\n\", import_top_countries_by_value)\n",
    "print(\"Export------------\\n\", export_top_countries_by_value)"
   ]
  },
  {
   "cell_type": "code",
   "execution_count": 83,
   "metadata": {
    "colab": {
     "base_uri": "https://localhost:8080/",
     "height": 51
    },
    "colab_type": "code",
    "executionInfo": {
     "elapsed": 3392,
     "status": "ok",
     "timestamp": 1588342165595,
     "user": {
      "displayName": "shiva raj",
      "photoUrl": "",
      "userId": "05869979791061297161"
     },
     "user_tz": -330
    },
    "id": "KPhsKJbsWRDB",
    "outputId": "6224247a-6dfd-40f1-8937-766068d60e5b"
   },
   "outputs": [],
   "source": [
    "# Get only records of top countries and commodities\n",
    "import_top_country_data = import_data[import_data.country.isin(import_top_countries_by_value.index)]\n",
    "import_top_commodity_data = import_data[import_data.commodity.isin(import_top_commodities_by_value.index)]\n",
    "export_top_country_data = export_data[export_data.country.isin(export_top_countries_by_value.index)]\n",
    "export_top_commodity_data = export_data[export_data.commodity.isin(export_top_commodities_by_value.index)]\n"
   ]
  },
  {
   "cell_type": "code",
   "execution_count": 85,
   "metadata": {
    "colab": {},
    "colab_type": "code",
    "id": "p_ZoKSU0cHv3"
   },
   "outputs": [
    {
     "name": "stdout",
     "output_type": "stream",
     "text": [
      "Index(['Minerals', 'Gold(Metals)', 'Electrical', 'Nuclear',\n",
      "       'PLASTIC AND ARTICLES THEREOF.', 'Iron & Steel', 'Edible Oil',\n",
      "       'Medical Instruments', 'Aircraft', 'Fertilizers', 'Other Chemicals',\n",
      "       'Vehicle Related', 'Iron/Steel articles', 'Rare Earth Metals',\n",
      "       'COPPER AND ARTICLES THEREOF.'],\n",
      "      dtype='object', name='commodity')\n",
      "=========================================================\n",
      "Index(['MINERAL FUELS; MINERAL OILS AND PRODUCTS OF THEIR DISTILLATION; BITUMINOUS SUBSTANCES; MINERAL WAXES.',\n",
      "       'NATURAL OR CULTURED PEARLS;PRECIOUS OR SEMIPRECIOUS STONES,PRE.METALS,CLAD WITH PRE.METAL AND ARTCLS THEREOF;IMIT.JEWLRY;COIN.',\n",
      "       'NUCLEAR REACTORS; BOILERS, MACHINERY AND MECHANICAL APPLIANCES; PARTS THEREOF.',\n",
      "       'ORGANIC CHEMICALS',\n",
      "       'VEHICLES OTHER THAN RAILWAY OR TRAMWAY ROLLING STOCK; AND PARTS AND ACCESSORIES THEREOF.',\n",
      "       'ELECTRICAL MACHINERY AND EQUIPMENT AND PARTS THEREOF; SOUND RECORDERS AND REPRODUCERS; TELEVISION IMAGE AND SOUND RECORDERS AND REPRODUCERS,AND PARTS.',\n",
      "       'PHARMACEUTICAL PRODUCTS', 'IRON AND STEEL',\n",
      "       'ARTICLES OF APPAREL AND CLOTHING ACCESSORIES; KNITTED OR CORCHETED.',\n",
      "       'ARTICLES OF APPAREL AND CLOTHING ACCESSORIES; NOT KNITTED OR CROCHETED.',\n",
      "       'FISH AND CRUSTACEANS; MOLLUSCS AND OTHER AQUATIC INVERTABRATES.',\n",
      "       'ARTICLES OF IRON OR STEEL', 'PLASTIC AND ARTICLES THEREOF.',\n",
      "       'ALUMINIUM AND ARTICLES THEREOF.', 'CEREALS.'],\n",
      "      dtype='object', name='commodity')\n"
     ]
    }
   ],
   "source": [
    "print(import_top_commodities_by_value.index)\n",
    "print(\"=========================================================\")\n",
    "print(export_top_commodities_by_value.index)"
   ]
  },
  {
   "cell_type": "code",
   "execution_count": 97,
   "outputs": [
    {
     "data": {
      "application/vnd.plotly.v1+json": {
       "config": {
        "plotlyServerURL": "https://plot.ly"
       },
       "data": [
        {
         "marker": {
          "color": "rgba(255, 153, 51, 0.6)",
          "line": {
           "color": "rgba(255, 153, 51, 1.0)",
           "width": 1
          }
         },
         "name": "('value', 'Aircraft')",
         "orientation": "v",
         "text": "",
         "type": "bar",
         "x": [
          "CHINA P RP",
          "U S A"
         ],
         "y": [
          1854.6486999999995,
          203650.66919999997
         ]
        },
        {
         "marker": {
          "color": "rgba(55, 128, 191, 0.6)",
          "line": {
           "color": "rgba(55, 128, 191, 1.0)",
           "width": 1
          }
         },
         "name": "('value', 'COPPER AND ARTICLES THEREOF.')",
         "orientation": "v",
         "text": "",
         "type": "bar",
         "x": [
          "CHINA P RP",
          "U S A"
         ],
         "y": [
          25848.860499999995,
          34913.773399999984
         ]
        },
        {
         "marker": {
          "color": "rgba(50, 171, 96, 0.6)",
          "line": {
           "color": "rgba(50, 171, 96, 1.0)",
           "width": 1
          }
         },
         "name": "('value', 'Edible Oil')",
         "orientation": "v",
         "text": "",
         "type": "bar",
         "x": [
          "CHINA P RP",
          "U S A"
         ],
         "y": [
          2514.2703,
          923.8988000000002
         ]
        },
        {
         "marker": {
          "color": "rgba(128, 0, 128, 0.6)",
          "line": {
           "color": "rgba(128, 0, 128, 1.0)",
           "width": 1
          }
         },
         "name": "('value', 'Electrical')",
         "orientation": "v",
         "text": "",
         "type": "bar",
         "x": [
          "CHINA P RP",
          "U S A"
         ],
         "y": [
          2764185.3283999986,
          305909.11999999994
         ]
        },
        {
         "marker": {
          "color": "rgba(219, 64, 82, 0.6)",
          "line": {
           "color": "rgba(219, 64, 82, 1.0)",
           "width": 1
          }
         },
         "name": "('value', 'Fertilizers')",
         "orientation": "v",
         "text": "",
         "type": "bar",
         "x": [
          "CHINA P RP",
          "U S A"
         ],
         "y": [
          279632.5809000001,
          12415.614200000002
         ]
        },
        {
         "marker": {
          "color": "rgba(0, 128, 128, 0.6)",
          "line": {
           "color": "rgba(0, 128, 128, 1.0)",
           "width": 1
          }
         },
         "name": "('value', 'Gold(Metals)')",
         "orientation": "v",
         "text": "",
         "type": "bar",
         "x": [
          "CHINA P RP",
          "U S A"
         ],
         "y": [
          21129.22140000001,
          803898.4008000004
         ]
        },
        {
         "marker": {
          "color": "rgba(255, 255, 51, 0.6)",
          "line": {
           "color": "rgba(255, 255, 51, 1.0)",
           "width": 1
          }
         },
         "name": "('value', 'Iron & Steel')",
         "orientation": "v",
         "text": "",
         "type": "bar",
         "x": [
          "CHINA P RP",
          "U S A"
         ],
         "y": [
          167222.36709999994,
          72724.00080000004
         ]
        },
        {
         "marker": {
          "color": "rgba(128, 128, 0, 0.6)",
          "line": {
           "color": "rgba(128, 128, 0, 1.0)",
           "width": 1
          }
         },
         "name": "('value', 'Iron/Steel articles')",
         "orientation": "v",
         "text": "",
         "type": "bar",
         "x": [
          "CHINA P RP",
          "U S A"
         ],
         "y": [
          229214.20269999988,
          30912.02179999999
         ]
        },
        {
         "marker": {
          "color": "rgba(251, 128, 114, 0.6)",
          "line": {
           "color": "rgba(251, 128, 114, 1.0)",
           "width": 1
          }
         },
         "name": "('value', 'Medical Instruments')",
         "orientation": "v",
         "text": "",
         "type": "bar",
         "x": [
          "CHINA P RP",
          "U S A"
         ],
         "y": [
          192037.62369999994,
          191496.92540000004
         ]
        },
        {
         "marker": {
          "color": "rgba(128, 177, 211, 0.6)",
          "line": {
           "color": "rgba(128, 177, 211, 1.0)",
           "width": 1
          }
         },
         "name": "('value', 'Minerals')",
         "orientation": "v",
         "text": "",
         "type": "bar",
         "x": [
          "CHINA P RP",
          "U S A"
         ],
         "y": [
          59891.84359999998,
          1083749.326
         ]
        },
        {
         "marker": {
          "color": "rgba(128, 177, 211, 0.6)",
          "line": {
           "color": "rgba(128, 177, 211, 0.8999999999999999)",
           "width": 1
          }
         },
         "name": "('value', 'Nuclear')",
         "orientation": "v",
         "text": "",
         "type": "bar",
         "x": [
          "CHINA P RP",
          "U S A"
         ],
         "y": [
          1911031.895900001,
          605170.7530000003
         ]
        },
        {
         "marker": {
          "color": "rgba(255, 153, 51, 0.6)",
          "line": {
           "color": "rgba(255, 153, 51, 0.8999999999999999)",
           "width": 1
          }
         },
         "name": "('value', 'Other Chemicals')",
         "orientation": "v",
         "text": "",
         "type": "bar",
         "x": [
          "CHINA P RP",
          "U S A"
         ],
         "y": [
          173895.56410000002,
          120799.17959999994
         ]
        },
        {
         "marker": {
          "color": "rgba(55, 128, 191, 0.6)",
          "line": {
           "color": "rgba(55, 128, 191, 0.8999999999999999)",
           "width": 1
          }
         },
         "name": "('value', 'PLASTIC AND ARTICLES THEREOF.')",
         "orientation": "v",
         "text": "",
         "type": "bar",
         "x": [
          "CHINA P RP",
          "U S A"
         ],
         "y": [
          1525071.3753000023,
          369036.5051999999
         ]
        },
        {
         "marker": {
          "color": "rgba(50, 171, 96, 0.6)",
          "line": {
           "color": "rgba(50, 171, 96, 0.8999999999999999)",
           "width": 1
          }
         },
         "name": "('value', 'Rare Earth Metals')",
         "orientation": "v",
         "text": "",
         "type": "bar",
         "x": [
          "CHINA P RP",
          "U S A"
         ],
         "y": [
          107569.74190000005,
          61722.141799999976
         ]
        },
        {
         "marker": {
          "color": "rgba(128, 0, 128, 0.6)",
          "line": {
           "color": "rgba(128, 0, 128, 0.8999999999999999)",
           "width": 1
          }
         },
         "name": "('value', 'Vehicle Related')",
         "orientation": "v",
         "text": "",
         "type": "bar",
         "x": [
          "CHINA P RP",
          "U S A"
         ],
         "y": [
          176787.00680000003,
          39072.23320000002
         ]
        }
       ],
       "layout": {
        "barmode": "stack",
        "height": 800,
        "legend": {
         "font": {
          "size": 7
         },
         "x": 2,
         "y": 0
        },
        "paper_bgcolor": "#F5F6F9",
        "plot_bgcolor": "#F5F6F9",
        "template": {
         "data": {
          "bar": [
           {
            "error_x": {
             "color": "#2a3f5f"
            },
            "error_y": {
             "color": "#2a3f5f"
            },
            "marker": {
             "line": {
              "color": "#E5ECF6",
              "width": 0.5
             }
            },
            "type": "bar"
           }
          ],
          "barpolar": [
           {
            "marker": {
             "line": {
              "color": "#E5ECF6",
              "width": 0.5
             }
            },
            "type": "barpolar"
           }
          ],
          "carpet": [
           {
            "aaxis": {
             "endlinecolor": "#2a3f5f",
             "gridcolor": "white",
             "linecolor": "white",
             "minorgridcolor": "white",
             "startlinecolor": "#2a3f5f"
            },
            "baxis": {
             "endlinecolor": "#2a3f5f",
             "gridcolor": "white",
             "linecolor": "white",
             "minorgridcolor": "white",
             "startlinecolor": "#2a3f5f"
            },
            "type": "carpet"
           }
          ],
          "choropleth": [
           {
            "colorbar": {
             "outlinewidth": 0,
             "ticks": ""
            },
            "type": "choropleth"
           }
          ],
          "contour": [
           {
            "colorbar": {
             "outlinewidth": 0,
             "ticks": ""
            },
            "colorscale": [
             [
              0.0,
              "#0d0887"
             ],
             [
              0.1111111111111111,
              "#46039f"
             ],
             [
              0.2222222222222222,
              "#7201a8"
             ],
             [
              0.3333333333333333,
              "#9c179e"
             ],
             [
              0.4444444444444444,
              "#bd3786"
             ],
             [
              0.5555555555555556,
              "#d8576b"
             ],
             [
              0.6666666666666666,
              "#ed7953"
             ],
             [
              0.7777777777777778,
              "#fb9f3a"
             ],
             [
              0.8888888888888888,
              "#fdca26"
             ],
             [
              1.0,
              "#f0f921"
             ]
            ],
            "type": "contour"
           }
          ],
          "contourcarpet": [
           {
            "colorbar": {
             "outlinewidth": 0,
             "ticks": ""
            },
            "type": "contourcarpet"
           }
          ],
          "heatmap": [
           {
            "colorbar": {
             "outlinewidth": 0,
             "ticks": ""
            },
            "colorscale": [
             [
              0.0,
              "#0d0887"
             ],
             [
              0.1111111111111111,
              "#46039f"
             ],
             [
              0.2222222222222222,
              "#7201a8"
             ],
             [
              0.3333333333333333,
              "#9c179e"
             ],
             [
              0.4444444444444444,
              "#bd3786"
             ],
             [
              0.5555555555555556,
              "#d8576b"
             ],
             [
              0.6666666666666666,
              "#ed7953"
             ],
             [
              0.7777777777777778,
              "#fb9f3a"
             ],
             [
              0.8888888888888888,
              "#fdca26"
             ],
             [
              1.0,
              "#f0f921"
             ]
            ],
            "type": "heatmap"
           }
          ],
          "heatmapgl": [
           {
            "colorbar": {
             "outlinewidth": 0,
             "ticks": ""
            },
            "colorscale": [
             [
              0.0,
              "#0d0887"
             ],
             [
              0.1111111111111111,
              "#46039f"
             ],
             [
              0.2222222222222222,
              "#7201a8"
             ],
             [
              0.3333333333333333,
              "#9c179e"
             ],
             [
              0.4444444444444444,
              "#bd3786"
             ],
             [
              0.5555555555555556,
              "#d8576b"
             ],
             [
              0.6666666666666666,
              "#ed7953"
             ],
             [
              0.7777777777777778,
              "#fb9f3a"
             ],
             [
              0.8888888888888888,
              "#fdca26"
             ],
             [
              1.0,
              "#f0f921"
             ]
            ],
            "type": "heatmapgl"
           }
          ],
          "histogram": [
           {
            "marker": {
             "colorbar": {
              "outlinewidth": 0,
              "ticks": ""
             }
            },
            "type": "histogram"
           }
          ],
          "histogram2d": [
           {
            "colorbar": {
             "outlinewidth": 0,
             "ticks": ""
            },
            "colorscale": [
             [
              0.0,
              "#0d0887"
             ],
             [
              0.1111111111111111,
              "#46039f"
             ],
             [
              0.2222222222222222,
              "#7201a8"
             ],
             [
              0.3333333333333333,
              "#9c179e"
             ],
             [
              0.4444444444444444,
              "#bd3786"
             ],
             [
              0.5555555555555556,
              "#d8576b"
             ],
             [
              0.6666666666666666,
              "#ed7953"
             ],
             [
              0.7777777777777778,
              "#fb9f3a"
             ],
             [
              0.8888888888888888,
              "#fdca26"
             ],
             [
              1.0,
              "#f0f921"
             ]
            ],
            "type": "histogram2d"
           }
          ],
          "histogram2dcontour": [
           {
            "colorbar": {
             "outlinewidth": 0,
             "ticks": ""
            },
            "colorscale": [
             [
              0.0,
              "#0d0887"
             ],
             [
              0.1111111111111111,
              "#46039f"
             ],
             [
              0.2222222222222222,
              "#7201a8"
             ],
             [
              0.3333333333333333,
              "#9c179e"
             ],
             [
              0.4444444444444444,
              "#bd3786"
             ],
             [
              0.5555555555555556,
              "#d8576b"
             ],
             [
              0.6666666666666666,
              "#ed7953"
             ],
             [
              0.7777777777777778,
              "#fb9f3a"
             ],
             [
              0.8888888888888888,
              "#fdca26"
             ],
             [
              1.0,
              "#f0f921"
             ]
            ],
            "type": "histogram2dcontour"
           }
          ],
          "mesh3d": [
           {
            "colorbar": {
             "outlinewidth": 0,
             "ticks": ""
            },
            "type": "mesh3d"
           }
          ],
          "parcoords": [
           {
            "line": {
             "colorbar": {
              "outlinewidth": 0,
              "ticks": ""
             }
            },
            "type": "parcoords"
           }
          ],
          "pie": [
           {
            "automargin": true,
            "type": "pie"
           }
          ],
          "scatter": [
           {
            "marker": {
             "colorbar": {
              "outlinewidth": 0,
              "ticks": ""
             }
            },
            "type": "scatter"
           }
          ],
          "scatter3d": [
           {
            "line": {
             "colorbar": {
              "outlinewidth": 0,
              "ticks": ""
             }
            },
            "marker": {
             "colorbar": {
              "outlinewidth": 0,
              "ticks": ""
             }
            },
            "type": "scatter3d"
           }
          ],
          "scattercarpet": [
           {
            "marker": {
             "colorbar": {
              "outlinewidth": 0,
              "ticks": ""
             }
            },
            "type": "scattercarpet"
           }
          ],
          "scattergeo": [
           {
            "marker": {
             "colorbar": {
              "outlinewidth": 0,
              "ticks": ""
             }
            },
            "type": "scattergeo"
           }
          ],
          "scattergl": [
           {
            "marker": {
             "colorbar": {
              "outlinewidth": 0,
              "ticks": ""
             }
            },
            "type": "scattergl"
           }
          ],
          "scattermapbox": [
           {
            "marker": {
             "colorbar": {
              "outlinewidth": 0,
              "ticks": ""
             }
            },
            "type": "scattermapbox"
           }
          ],
          "scatterpolar": [
           {
            "marker": {
             "colorbar": {
              "outlinewidth": 0,
              "ticks": ""
             }
            },
            "type": "scatterpolar"
           }
          ],
          "scatterpolargl": [
           {
            "marker": {
             "colorbar": {
              "outlinewidth": 0,
              "ticks": ""
             }
            },
            "type": "scatterpolargl"
           }
          ],
          "scatterternary": [
           {
            "marker": {
             "colorbar": {
              "outlinewidth": 0,
              "ticks": ""
             }
            },
            "type": "scatterternary"
           }
          ],
          "surface": [
           {
            "colorbar": {
             "outlinewidth": 0,
             "ticks": ""
            },
            "colorscale": [
             [
              0.0,
              "#0d0887"
             ],
             [
              0.1111111111111111,
              "#46039f"
             ],
             [
              0.2222222222222222,
              "#7201a8"
             ],
             [
              0.3333333333333333,
              "#9c179e"
             ],
             [
              0.4444444444444444,
              "#bd3786"
             ],
             [
              0.5555555555555556,
              "#d8576b"
             ],
             [
              0.6666666666666666,
              "#ed7953"
             ],
             [
              0.7777777777777778,
              "#fb9f3a"
             ],
             [
              0.8888888888888888,
              "#fdca26"
             ],
             [
              1.0,
              "#f0f921"
             ]
            ],
            "type": "surface"
           }
          ],
          "table": [
           {
            "cells": {
             "fill": {
              "color": "#EBF0F8"
             },
             "line": {
              "color": "white"
             }
            },
            "header": {
             "fill": {
              "color": "#C8D4E3"
             },
             "line": {
              "color": "white"
             }
            },
            "type": "table"
           }
          ]
         },
         "layout": {
          "annotationdefaults": {
           "arrowcolor": "#2a3f5f",
           "arrowhead": 0,
           "arrowwidth": 1
          },
          "coloraxis": {
           "colorbar": {
            "outlinewidth": 0,
            "ticks": ""
           }
          },
          "colorscale": {
           "diverging": [
            [
             0,
             "#8e0152"
            ],
            [
             0.1,
             "#c51b7d"
            ],
            [
             0.2,
             "#de77ae"
            ],
            [
             0.3,
             "#f1b6da"
            ],
            [
             0.4,
             "#fde0ef"
            ],
            [
             0.5,
             "#f7f7f7"
            ],
            [
             0.6,
             "#e6f5d0"
            ],
            [
             0.7,
             "#b8e186"
            ],
            [
             0.8,
             "#7fbc41"
            ],
            [
             0.9,
             "#4d9221"
            ],
            [
             1,
             "#276419"
            ]
           ],
           "sequential": [
            [
             0.0,
             "#0d0887"
            ],
            [
             0.1111111111111111,
             "#46039f"
            ],
            [
             0.2222222222222222,
             "#7201a8"
            ],
            [
             0.3333333333333333,
             "#9c179e"
            ],
            [
             0.4444444444444444,
             "#bd3786"
            ],
            [
             0.5555555555555556,
             "#d8576b"
            ],
            [
             0.6666666666666666,
             "#ed7953"
            ],
            [
             0.7777777777777778,
             "#fb9f3a"
            ],
            [
             0.8888888888888888,
             "#fdca26"
            ],
            [
             1.0,
             "#f0f921"
            ]
           ],
           "sequentialminus": [
            [
             0.0,
             "#0d0887"
            ],
            [
             0.1111111111111111,
             "#46039f"
            ],
            [
             0.2222222222222222,
             "#7201a8"
            ],
            [
             0.3333333333333333,
             "#9c179e"
            ],
            [
             0.4444444444444444,
             "#bd3786"
            ],
            [
             0.5555555555555556,
             "#d8576b"
            ],
            [
             0.6666666666666666,
             "#ed7953"
            ],
            [
             0.7777777777777778,
             "#fb9f3a"
            ],
            [
             0.8888888888888888,
             "#fdca26"
            ],
            [
             1.0,
             "#f0f921"
            ]
           ]
          },
          "colorway": [
           "#636efa",
           "#EF553B",
           "#00cc96",
           "#ab63fa",
           "#FFA15A",
           "#19d3f3",
           "#FF6692",
           "#B6E880",
           "#FF97FF",
           "#FECB52"
          ],
          "font": {
           "color": "#2a3f5f"
          },
          "geo": {
           "bgcolor": "white",
           "lakecolor": "white",
           "landcolor": "#E5ECF6",
           "showlakes": true,
           "showland": true,
           "subunitcolor": "white"
          },
          "hoverlabel": {
           "align": "left"
          },
          "hovermode": "closest",
          "mapbox": {
           "style": "light"
          },
          "paper_bgcolor": "white",
          "plot_bgcolor": "#E5ECF6",
          "polar": {
           "angularaxis": {
            "gridcolor": "white",
            "linecolor": "white",
            "ticks": ""
           },
           "bgcolor": "#E5ECF6",
           "radialaxis": {
            "gridcolor": "white",
            "linecolor": "white",
            "ticks": ""
           }
          },
          "scene": {
           "xaxis": {
            "backgroundcolor": "#E5ECF6",
            "gridcolor": "white",
            "gridwidth": 2,
            "linecolor": "white",
            "showbackground": true,
            "ticks": "",
            "zerolinecolor": "white"
           },
           "yaxis": {
            "backgroundcolor": "#E5ECF6",
            "gridcolor": "white",
            "gridwidth": 2,
            "linecolor": "white",
            "showbackground": true,
            "ticks": "",
            "zerolinecolor": "white"
           },
           "zaxis": {
            "backgroundcolor": "#E5ECF6",
            "gridcolor": "white",
            "gridwidth": 2,
            "linecolor": "white",
            "showbackground": true,
            "ticks": "",
            "zerolinecolor": "white"
           }
          },
          "shapedefaults": {
           "line": {
            "color": "#2a3f5f"
           }
          },
          "ternary": {
           "aaxis": {
            "gridcolor": "white",
            "linecolor": "white",
            "ticks": ""
           },
           "baxis": {
            "gridcolor": "white",
            "linecolor": "white",
            "ticks": ""
           },
           "bgcolor": "#E5ECF6",
           "caxis": {
            "gridcolor": "white",
            "linecolor": "white",
            "ticks": ""
           }
          },
          "title": {
           "x": 0.05
          },
          "xaxis": {
           "automargin": true,
           "gridcolor": "white",
           "linecolor": "white",
           "ticks": "",
           "title": {
            "standoff": 15
           },
           "zerolinecolor": "white",
           "zerolinewidth": 2
          },
          "yaxis": {
           "automargin": true,
           "gridcolor": "white",
           "linecolor": "white",
           "ticks": "",
           "title": {
            "standoff": 15
           },
           "zerolinecolor": "white",
           "zerolinewidth": 2
          }
         }
        },
        "title": {
         "font": {
          "color": "#4D5663"
         }
        },
        "width": 1000,
        "xaxis": {
         "gridcolor": "#E1E5ED",
         "showgrid": true,
         "tickfont": {
          "color": "#4D5663"
         },
         "title": {
          "font": {
           "color": "#4D5663"
          },
          "text": ""
         },
         "zerolinecolor": "#E1E5ED"
        },
        "yaxis": {
         "gridcolor": "#E1E5ED",
         "showgrid": true,
         "tickfont": {
          "color": "#4D5663"
         },
         "title": {
          "font": {
           "color": "#4D5663"
          },
          "text": ""
         },
         "zerolinecolor": "#E1E5ED"
        }
       }
      },
      "text/html": "<div>\n        \n        \n            <div id=\"af5c9d6e-9d0a-4ef3-a179-245fd6febf32\" class=\"plotly-graph-div\" style=\"height:800px; width:1000px;\"></div>\n            <script type=\"text/javascript\">\n                require([\"plotly\"], function(Plotly) {\n                    window.PLOTLYENV=window.PLOTLYENV || {};\n                    \n                if (document.getElementById(\"af5c9d6e-9d0a-4ef3-a179-245fd6febf32\")) {\n                    Plotly.newPlot(\n                        'af5c9d6e-9d0a-4ef3-a179-245fd6febf32',\n                        [{\"marker\": {\"color\": \"rgba(255, 153, 51, 0.6)\", \"line\": {\"color\": \"rgba(255, 153, 51, 1.0)\", \"width\": 1}}, \"name\": \"('value', 'Aircraft')\", \"orientation\": \"v\", \"text\": \"\", \"type\": \"bar\", \"x\": [\"CHINA P RP\", \"U S A\"], \"y\": [1854.6486999999995, 203650.66919999997]}, {\"marker\": {\"color\": \"rgba(55, 128, 191, 0.6)\", \"line\": {\"color\": \"rgba(55, 128, 191, 1.0)\", \"width\": 1}}, \"name\": \"('value', 'COPPER AND ARTICLES THEREOF.')\", \"orientation\": \"v\", \"text\": \"\", \"type\": \"bar\", \"x\": [\"CHINA P RP\", \"U S A\"], \"y\": [25848.860499999995, 34913.773399999984]}, {\"marker\": {\"color\": \"rgba(50, 171, 96, 0.6)\", \"line\": {\"color\": \"rgba(50, 171, 96, 1.0)\", \"width\": 1}}, \"name\": \"('value', 'Edible Oil')\", \"orientation\": \"v\", \"text\": \"\", \"type\": \"bar\", \"x\": [\"CHINA P RP\", \"U S A\"], \"y\": [2514.2703, 923.8988000000002]}, {\"marker\": {\"color\": \"rgba(128, 0, 128, 0.6)\", \"line\": {\"color\": \"rgba(128, 0, 128, 1.0)\", \"width\": 1}}, \"name\": \"('value', 'Electrical')\", \"orientation\": \"v\", \"text\": \"\", \"type\": \"bar\", \"x\": [\"CHINA P RP\", \"U S A\"], \"y\": [2764185.3283999986, 305909.11999999994]}, {\"marker\": {\"color\": \"rgba(219, 64, 82, 0.6)\", \"line\": {\"color\": \"rgba(219, 64, 82, 1.0)\", \"width\": 1}}, \"name\": \"('value', 'Fertilizers')\", \"orientation\": \"v\", \"text\": \"\", \"type\": \"bar\", \"x\": [\"CHINA P RP\", \"U S A\"], \"y\": [279632.5809000001, 12415.614200000002]}, {\"marker\": {\"color\": \"rgba(0, 128, 128, 0.6)\", \"line\": {\"color\": \"rgba(0, 128, 128, 1.0)\", \"width\": 1}}, \"name\": \"('value', 'Gold(Metals)')\", \"orientation\": \"v\", \"text\": \"\", \"type\": \"bar\", \"x\": [\"CHINA P RP\", \"U S A\"], \"y\": [21129.22140000001, 803898.4008000004]}, {\"marker\": {\"color\": \"rgba(255, 255, 51, 0.6)\", \"line\": {\"color\": \"rgba(255, 255, 51, 1.0)\", \"width\": 1}}, \"name\": \"('value', 'Iron & Steel')\", \"orientation\": \"v\", \"text\": \"\", \"type\": \"bar\", \"x\": [\"CHINA P RP\", \"U S A\"], \"y\": [167222.36709999994, 72724.00080000004]}, {\"marker\": {\"color\": \"rgba(128, 128, 0, 0.6)\", \"line\": {\"color\": \"rgba(128, 128, 0, 1.0)\", \"width\": 1}}, \"name\": \"('value', 'Iron/Steel articles')\", \"orientation\": \"v\", \"text\": \"\", \"type\": \"bar\", \"x\": [\"CHINA P RP\", \"U S A\"], \"y\": [229214.20269999988, 30912.02179999999]}, {\"marker\": {\"color\": \"rgba(251, 128, 114, 0.6)\", \"line\": {\"color\": \"rgba(251, 128, 114, 1.0)\", \"width\": 1}}, \"name\": \"('value', 'Medical Instruments')\", \"orientation\": \"v\", \"text\": \"\", \"type\": \"bar\", \"x\": [\"CHINA P RP\", \"U S A\"], \"y\": [192037.62369999994, 191496.92540000004]}, {\"marker\": {\"color\": \"rgba(128, 177, 211, 0.6)\", \"line\": {\"color\": \"rgba(128, 177, 211, 1.0)\", \"width\": 1}}, \"name\": \"('value', 'Minerals')\", \"orientation\": \"v\", \"text\": \"\", \"type\": \"bar\", \"x\": [\"CHINA P RP\", \"U S A\"], \"y\": [59891.84359999998, 1083749.326]}, {\"marker\": {\"color\": \"rgba(128, 177, 211, 0.6)\", \"line\": {\"color\": \"rgba(128, 177, 211, 0.8999999999999999)\", \"width\": 1}}, \"name\": \"('value', 'Nuclear')\", \"orientation\": \"v\", \"text\": \"\", \"type\": \"bar\", \"x\": [\"CHINA P RP\", \"U S A\"], \"y\": [1911031.895900001, 605170.7530000003]}, {\"marker\": {\"color\": \"rgba(255, 153, 51, 0.6)\", \"line\": {\"color\": \"rgba(255, 153, 51, 0.8999999999999999)\", \"width\": 1}}, \"name\": \"('value', 'Other Chemicals')\", \"orientation\": \"v\", \"text\": \"\", \"type\": \"bar\", \"x\": [\"CHINA P RP\", \"U S A\"], \"y\": [173895.56410000002, 120799.17959999994]}, {\"marker\": {\"color\": \"rgba(55, 128, 191, 0.6)\", \"line\": {\"color\": \"rgba(55, 128, 191, 0.8999999999999999)\", \"width\": 1}}, \"name\": \"('value', 'PLASTIC AND ARTICLES THEREOF.')\", \"orientation\": \"v\", \"text\": \"\", \"type\": \"bar\", \"x\": [\"CHINA P RP\", \"U S A\"], \"y\": [1525071.3753000023, 369036.5051999999]}, {\"marker\": {\"color\": \"rgba(50, 171, 96, 0.6)\", \"line\": {\"color\": \"rgba(50, 171, 96, 0.8999999999999999)\", \"width\": 1}}, \"name\": \"('value', 'Rare Earth Metals')\", \"orientation\": \"v\", \"text\": \"\", \"type\": \"bar\", \"x\": [\"CHINA P RP\", \"U S A\"], \"y\": [107569.74190000005, 61722.141799999976]}, {\"marker\": {\"color\": \"rgba(128, 0, 128, 0.6)\", \"line\": {\"color\": \"rgba(128, 0, 128, 0.8999999999999999)\", \"width\": 1}}, \"name\": \"('value', 'Vehicle Related')\", \"orientation\": \"v\", \"text\": \"\", \"type\": \"bar\", \"x\": [\"CHINA P RP\", \"U S A\"], \"y\": [176787.00680000003, 39072.23320000002]}],\n                        {\"barmode\": \"stack\", \"height\": 800, \"legend\": {\"font\": {\"size\": 7}, \"x\": 2, \"y\": 0}, \"paper_bgcolor\": \"#F5F6F9\", \"plot_bgcolor\": \"#F5F6F9\", \"template\": {\"data\": {\"bar\": [{\"error_x\": {\"color\": \"#2a3f5f\"}, \"error_y\": {\"color\": \"#2a3f5f\"}, \"marker\": {\"line\": {\"color\": \"#E5ECF6\", \"width\": 0.5}}, \"type\": \"bar\"}], \"barpolar\": [{\"marker\": {\"line\": {\"color\": \"#E5ECF6\", \"width\": 0.5}}, \"type\": \"barpolar\"}], \"carpet\": [{\"aaxis\": {\"endlinecolor\": \"#2a3f5f\", \"gridcolor\": \"white\", \"linecolor\": \"white\", \"minorgridcolor\": \"white\", \"startlinecolor\": \"#2a3f5f\"}, \"baxis\": {\"endlinecolor\": \"#2a3f5f\", \"gridcolor\": \"white\", \"linecolor\": \"white\", \"minorgridcolor\": \"white\", \"startlinecolor\": \"#2a3f5f\"}, \"type\": \"carpet\"}], \"choropleth\": [{\"colorbar\": {\"outlinewidth\": 0, \"ticks\": \"\"}, \"type\": \"choropleth\"}], \"contour\": [{\"colorbar\": {\"outlinewidth\": 0, \"ticks\": \"\"}, \"colorscale\": [[0.0, \"#0d0887\"], [0.1111111111111111, \"#46039f\"], [0.2222222222222222, \"#7201a8\"], [0.3333333333333333, \"#9c179e\"], [0.4444444444444444, \"#bd3786\"], [0.5555555555555556, \"#d8576b\"], [0.6666666666666666, \"#ed7953\"], [0.7777777777777778, \"#fb9f3a\"], [0.8888888888888888, \"#fdca26\"], [1.0, \"#f0f921\"]], \"type\": \"contour\"}], \"contourcarpet\": [{\"colorbar\": {\"outlinewidth\": 0, \"ticks\": \"\"}, \"type\": \"contourcarpet\"}], \"heatmap\": [{\"colorbar\": {\"outlinewidth\": 0, \"ticks\": \"\"}, \"colorscale\": [[0.0, \"#0d0887\"], [0.1111111111111111, \"#46039f\"], [0.2222222222222222, \"#7201a8\"], [0.3333333333333333, \"#9c179e\"], [0.4444444444444444, \"#bd3786\"], [0.5555555555555556, \"#d8576b\"], [0.6666666666666666, \"#ed7953\"], [0.7777777777777778, \"#fb9f3a\"], [0.8888888888888888, \"#fdca26\"], [1.0, \"#f0f921\"]], \"type\": \"heatmap\"}], \"heatmapgl\": [{\"colorbar\": {\"outlinewidth\": 0, \"ticks\": \"\"}, \"colorscale\": [[0.0, \"#0d0887\"], [0.1111111111111111, \"#46039f\"], [0.2222222222222222, \"#7201a8\"], [0.3333333333333333, \"#9c179e\"], [0.4444444444444444, \"#bd3786\"], [0.5555555555555556, \"#d8576b\"], [0.6666666666666666, \"#ed7953\"], [0.7777777777777778, \"#fb9f3a\"], [0.8888888888888888, \"#fdca26\"], [1.0, \"#f0f921\"]], \"type\": \"heatmapgl\"}], \"histogram\": [{\"marker\": {\"colorbar\": {\"outlinewidth\": 0, \"ticks\": \"\"}}, \"type\": \"histogram\"}], \"histogram2d\": [{\"colorbar\": {\"outlinewidth\": 0, \"ticks\": \"\"}, \"colorscale\": [[0.0, \"#0d0887\"], [0.1111111111111111, \"#46039f\"], [0.2222222222222222, \"#7201a8\"], [0.3333333333333333, \"#9c179e\"], [0.4444444444444444, \"#bd3786\"], [0.5555555555555556, \"#d8576b\"], [0.6666666666666666, \"#ed7953\"], [0.7777777777777778, \"#fb9f3a\"], [0.8888888888888888, \"#fdca26\"], [1.0, \"#f0f921\"]], \"type\": \"histogram2d\"}], \"histogram2dcontour\": [{\"colorbar\": {\"outlinewidth\": 0, \"ticks\": \"\"}, \"colorscale\": [[0.0, \"#0d0887\"], [0.1111111111111111, \"#46039f\"], [0.2222222222222222, \"#7201a8\"], [0.3333333333333333, \"#9c179e\"], [0.4444444444444444, \"#bd3786\"], [0.5555555555555556, \"#d8576b\"], [0.6666666666666666, \"#ed7953\"], [0.7777777777777778, \"#fb9f3a\"], [0.8888888888888888, \"#fdca26\"], [1.0, \"#f0f921\"]], \"type\": \"histogram2dcontour\"}], \"mesh3d\": [{\"colorbar\": {\"outlinewidth\": 0, \"ticks\": \"\"}, \"type\": \"mesh3d\"}], \"parcoords\": [{\"line\": {\"colorbar\": {\"outlinewidth\": 0, \"ticks\": \"\"}}, \"type\": \"parcoords\"}], \"pie\": [{\"automargin\": true, \"type\": \"pie\"}], \"scatter\": [{\"marker\": {\"colorbar\": {\"outlinewidth\": 0, \"ticks\": \"\"}}, \"type\": \"scatter\"}], \"scatter3d\": [{\"line\": {\"colorbar\": {\"outlinewidth\": 0, \"ticks\": \"\"}}, \"marker\": {\"colorbar\": {\"outlinewidth\": 0, \"ticks\": \"\"}}, \"type\": \"scatter3d\"}], \"scattercarpet\": [{\"marker\": {\"colorbar\": {\"outlinewidth\": 0, \"ticks\": \"\"}}, \"type\": \"scattercarpet\"}], \"scattergeo\": [{\"marker\": {\"colorbar\": {\"outlinewidth\": 0, \"ticks\": \"\"}}, \"type\": \"scattergeo\"}], \"scattergl\": [{\"marker\": {\"colorbar\": {\"outlinewidth\": 0, \"ticks\": \"\"}}, \"type\": \"scattergl\"}], \"scattermapbox\": [{\"marker\": {\"colorbar\": {\"outlinewidth\": 0, \"ticks\": \"\"}}, \"type\": \"scattermapbox\"}], \"scatterpolar\": [{\"marker\": {\"colorbar\": {\"outlinewidth\": 0, \"ticks\": \"\"}}, \"type\": \"scatterpolar\"}], \"scatterpolargl\": [{\"marker\": {\"colorbar\": {\"outlinewidth\": 0, \"ticks\": \"\"}}, \"type\": \"scatterpolargl\"}], \"scatterternary\": [{\"marker\": {\"colorbar\": {\"outlinewidth\": 0, \"ticks\": \"\"}}, \"type\": \"scatterternary\"}], \"surface\": [{\"colorbar\": {\"outlinewidth\": 0, \"ticks\": \"\"}, \"colorscale\": [[0.0, \"#0d0887\"], [0.1111111111111111, \"#46039f\"], [0.2222222222222222, \"#7201a8\"], [0.3333333333333333, \"#9c179e\"], [0.4444444444444444, \"#bd3786\"], [0.5555555555555556, \"#d8576b\"], [0.6666666666666666, \"#ed7953\"], [0.7777777777777778, \"#fb9f3a\"], [0.8888888888888888, \"#fdca26\"], [1.0, \"#f0f921\"]], \"type\": \"surface\"}], \"table\": [{\"cells\": {\"fill\": {\"color\": \"#EBF0F8\"}, \"line\": {\"color\": \"white\"}}, \"header\": {\"fill\": {\"color\": \"#C8D4E3\"}, \"line\": {\"color\": \"white\"}}, \"type\": \"table\"}]}, \"layout\": {\"annotationdefaults\": {\"arrowcolor\": \"#2a3f5f\", \"arrowhead\": 0, \"arrowwidth\": 1}, \"coloraxis\": {\"colorbar\": {\"outlinewidth\": 0, \"ticks\": \"\"}}, \"colorscale\": {\"diverging\": [[0, \"#8e0152\"], [0.1, \"#c51b7d\"], [0.2, \"#de77ae\"], [0.3, \"#f1b6da\"], [0.4, \"#fde0ef\"], [0.5, \"#f7f7f7\"], [0.6, \"#e6f5d0\"], [0.7, \"#b8e186\"], [0.8, \"#7fbc41\"], [0.9, \"#4d9221\"], [1, \"#276419\"]], \"sequential\": [[0.0, \"#0d0887\"], [0.1111111111111111, \"#46039f\"], [0.2222222222222222, \"#7201a8\"], [0.3333333333333333, \"#9c179e\"], [0.4444444444444444, \"#bd3786\"], [0.5555555555555556, \"#d8576b\"], [0.6666666666666666, \"#ed7953\"], [0.7777777777777778, \"#fb9f3a\"], [0.8888888888888888, \"#fdca26\"], [1.0, \"#f0f921\"]], \"sequentialminus\": [[0.0, \"#0d0887\"], [0.1111111111111111, \"#46039f\"], [0.2222222222222222, \"#7201a8\"], [0.3333333333333333, \"#9c179e\"], [0.4444444444444444, \"#bd3786\"], [0.5555555555555556, \"#d8576b\"], [0.6666666666666666, \"#ed7953\"], [0.7777777777777778, \"#fb9f3a\"], [0.8888888888888888, \"#fdca26\"], [1.0, \"#f0f921\"]]}, \"colorway\": [\"#636efa\", \"#EF553B\", \"#00cc96\", \"#ab63fa\", \"#FFA15A\", \"#19d3f3\", \"#FF6692\", \"#B6E880\", \"#FF97FF\", \"#FECB52\"], \"font\": {\"color\": \"#2a3f5f\"}, \"geo\": {\"bgcolor\": \"white\", \"lakecolor\": \"white\", \"landcolor\": \"#E5ECF6\", \"showlakes\": true, \"showland\": true, \"subunitcolor\": \"white\"}, \"hoverlabel\": {\"align\": \"left\"}, \"hovermode\": \"closest\", \"mapbox\": {\"style\": \"light\"}, \"paper_bgcolor\": \"white\", \"plot_bgcolor\": \"#E5ECF6\", \"polar\": {\"angularaxis\": {\"gridcolor\": \"white\", \"linecolor\": \"white\", \"ticks\": \"\"}, \"bgcolor\": \"#E5ECF6\", \"radialaxis\": {\"gridcolor\": \"white\", \"linecolor\": \"white\", \"ticks\": \"\"}}, \"scene\": {\"xaxis\": {\"backgroundcolor\": \"#E5ECF6\", \"gridcolor\": \"white\", \"gridwidth\": 2, \"linecolor\": \"white\", \"showbackground\": true, \"ticks\": \"\", \"zerolinecolor\": \"white\"}, \"yaxis\": {\"backgroundcolor\": \"#E5ECF6\", \"gridcolor\": \"white\", \"gridwidth\": 2, \"linecolor\": \"white\", \"showbackground\": true, \"ticks\": \"\", \"zerolinecolor\": \"white\"}, \"zaxis\": {\"backgroundcolor\": \"#E5ECF6\", \"gridcolor\": \"white\", \"gridwidth\": 2, \"linecolor\": \"white\", \"showbackground\": true, \"ticks\": \"\", \"zerolinecolor\": \"white\"}}, \"shapedefaults\": {\"line\": {\"color\": \"#2a3f5f\"}}, \"ternary\": {\"aaxis\": {\"gridcolor\": \"white\", \"linecolor\": \"white\", \"ticks\": \"\"}, \"baxis\": {\"gridcolor\": \"white\", \"linecolor\": \"white\", \"ticks\": \"\"}, \"bgcolor\": \"#E5ECF6\", \"caxis\": {\"gridcolor\": \"white\", \"linecolor\": \"white\", \"ticks\": \"\"}}, \"title\": {\"x\": 0.05}, \"xaxis\": {\"automargin\": true, \"gridcolor\": \"white\", \"linecolor\": \"white\", \"ticks\": \"\", \"title\": {\"standoff\": 15}, \"zerolinecolor\": \"white\", \"zerolinewidth\": 2}, \"yaxis\": {\"automargin\": true, \"gridcolor\": \"white\", \"linecolor\": \"white\", \"ticks\": \"\", \"title\": {\"standoff\": 15}, \"zerolinecolor\": \"white\", \"zerolinewidth\": 2}}}, \"title\": {\"font\": {\"color\": \"#4D5663\"}}, \"width\": 1000, \"xaxis\": {\"gridcolor\": \"#E1E5ED\", \"showgrid\": true, \"tickfont\": {\"color\": \"#4D5663\"}, \"title\": {\"font\": {\"color\": \"#4D5663\"}, \"text\": \"\"}, \"zerolinecolor\": \"#E1E5ED\"}, \"yaxis\": {\"gridcolor\": \"#E1E5ED\", \"showgrid\": true, \"tickfont\": {\"color\": \"#4D5663\"}, \"title\": {\"font\": {\"color\": \"#4D5663\"}, \"text\": \"\"}, \"zerolinecolor\": \"#E1E5ED\"}},\n                        {\"responsive\": true}\n                    ).then(function(){\n                            \nvar gd = document.getElementById('af5c9d6e-9d0a-4ef3-a179-245fd6febf32');\nvar x = new MutationObserver(function (mutations, observer) {{\n        var display = window.getComputedStyle(gd).display;\n        if (!display || display === 'none') {{\n            console.log([gd, 'removed!']);\n            Plotly.purge(gd);\n            observer.disconnect();\n        }}\n}});\n\n// Listen for the removal of the full notebook cells\nvar notebookContainer = gd.closest('#notebook-container');\nif (notebookContainer) {{\n    x.observe(notebookContainer, {childList: true});\n}}\n\n// Listen for the clearing of the current output cell\nvar outputEl = gd.closest('.output');\nif (outputEl) {{\n    x.observe(outputEl, {childList: true});\n}}\n\n                        })\n                };\n                });\n            </script>\n        </div>"
     },
     "metadata": {},
     "output_type": "display_data"
    }
   ],
   "source": [
    "usa_china_import = import_top_commodity_data[import_top_commodity_data['country'].isin(['U S A', 'CHINA P RP'])][['commodity', 'country', 'value']]\n",
    "\n",
    "fig = usa_china_import.sort_values(by='value', ascending=False).\\\n",
    "    groupby(['country', 'commodity']).sum().unstack().\\\n",
    "    iplot(kind='bar', barmode='stack', asFigure=True)\n",
    "\n",
    "# fig.layout = cf.Layout(height=1000, width=1400, legend=dict(font=dict(size=7), x=2, y=3))\n",
    "fig.layout.legend = dict(font=dict(size=7), x=2, y=0)\n",
    "fig.layout.height = 800\n",
    "fig.layout.width = 1000\n",
    "# fig.layout.size = 10\n",
    "fig.show()"
   ],
   "metadata": {
    "collapsed": false,
    "pycharm": {
     "name": "#%%\n"
    }
   }
  },
  {
   "cell_type": "code",
   "execution_count": 98,
   "outputs": [
    {
     "data": {
      "application/vnd.plotly.v1+json": {
       "config": {
        "plotlyServerURL": "https://plot.ly"
       },
       "data": [
        {
         "marker": {
          "color": "rgba(255, 153, 51, 0.6)",
          "line": {
           "color": "rgba(255, 153, 51, 1.0)",
           "width": 1
          }
         },
         "name": "('value', 'ALUMINIUM AND ARTICLES THEREOF.')",
         "orientation": "v",
         "text": "",
         "type": "bar",
         "x": [
          "CHINA P RP",
          "U S A"
         ],
         "y": [
          7004.838600000004,
          86107.05959999998
         ]
        },
        {
         "marker": {
          "color": "rgba(55, 128, 191, 0.6)",
          "line": {
           "color": "rgba(55, 128, 191, 1.0)",
           "width": 1
          }
         },
         "name": "('value', 'ARTICLES OF APPAREL AND CLOTHING ACCESSORIES; KNITTED OR CORCHETED.')",
         "orientation": "v",
         "text": "",
         "type": "bar",
         "x": [
          "CHINA P RP",
          "U S A"
         ],
         "y": [
          4665.412,
          272081.2024999999
         ]
        },
        {
         "marker": {
          "color": "rgba(50, 171, 96, 0.6)",
          "line": {
           "color": "rgba(50, 171, 96, 1.0)",
           "width": 1
          }
         },
         "name": "('value', 'ARTICLES OF APPAREL AND CLOTHING ACCESSORIES; NOT KNITTED OR CROCHETED.')",
         "orientation": "v",
         "text": "",
         "type": "bar",
         "x": [
          "CHINA P RP",
          "U S A"
         ],
         "y": [
          7260.593999999998,
          296811.33379999996
         ]
        },
        {
         "marker": {
          "color": "rgba(128, 0, 128, 0.6)",
          "line": {
           "color": "rgba(128, 0, 128, 1.0)",
           "width": 1
          }
         },
         "name": "('value', 'ARTICLES OF IRON OR STEEL')",
         "orientation": "v",
         "text": "",
         "type": "bar",
         "x": [
          "CHINA P RP",
          "U S A"
         ],
         "y": [
          10201.0543,
          220873.8231000001
         ]
        },
        {
         "marker": {
          "color": "rgba(219, 64, 82, 0.6)",
          "line": {
           "color": "rgba(219, 64, 82, 1.0)",
           "width": 1
          }
         },
         "name": "('value', 'CEREALS.')",
         "orientation": "v",
         "text": "",
         "type": "bar",
         "x": [
          "CHINA P RP",
          "U S A"
         ],
         "y": [
          74.32219999999998,
          28886.8339
         ]
        },
        {
         "marker": {
          "color": "rgba(0, 128, 128, 0.6)",
          "line": {
           "color": "rgba(0, 128, 128, 1.0)",
           "width": 1
          }
         },
         "name": "('value', 'ELECTRICAL MACHINERY AND EQUIPMENT AND PARTS THEREOF; SOUND RECORDERS AND REPRODUCERS; TELEVISION IMAGE AND SOUND RECORDERS AND REPRODUCERS,AND PARTS.')",
         "orientation": "v",
         "text": "",
         "type": "bar",
         "x": [
          "CHINA P RP",
          "U S A"
         ],
         "y": [
          119736.6683,
          326537.85170000006
         ]
        },
        {
         "marker": {
          "color": "rgba(255, 255, 51, 0.6)",
          "line": {
           "color": "rgba(255, 255, 51, 1.0)",
           "width": 1
          }
         },
         "name": "('value', 'FISH AND CRUSTACEANS; MOLLUSCS AND OTHER AQUATIC INVERTABRATES.')",
         "orientation": "v",
         "text": "",
         "type": "bar",
         "x": [
          "CHINA P RP",
          "U S A"
         ],
         "y": [
          199958.89499999996,
          306477.13210000005
         ]
        },
        {
         "marker": {
          "color": "rgba(128, 128, 0, 0.6)",
          "line": {
           "color": "rgba(128, 128, 0, 1.0)",
           "width": 1
          }
         },
         "name": "('value', 'IRON AND STEEL')",
         "orientation": "v",
         "text": "",
         "type": "bar",
         "x": [
          "CHINA P RP",
          "U S A"
         ],
         "y": [
          77026.7815,
          23850.335299999995
         ]
        },
        {
         "marker": {
          "color": "rgba(251, 128, 114, 0.6)",
          "line": {
           "color": "rgba(251, 128, 114, 1.0)",
           "width": 1
          }
         },
         "name": "('value', 'MINERAL FUELS; MINERAL OILS AND PRODUCTS OF THEIR DISTILLATION; BITUMINOUS SUBSTANCES; MINERAL WAXES.')",
         "orientation": "v",
         "text": "",
         "type": "bar",
         "x": [
          "CHINA P RP",
          "U S A"
         ],
         "y": [
          313947.54129999987,
          311675.64040000003
         ]
        },
        {
         "marker": {
          "color": "rgba(128, 177, 211, 0.6)",
          "line": {
           "color": "rgba(128, 177, 211, 1.0)",
           "width": 1
          }
         },
         "name": "('value', 'NATURAL OR CULTURED PEARLS;PRECIOUS OR SEMIPRECIOUS STONES,PRE.METALS,CLAD WITH PRE.METAL AND ARTCLS THEREOF;IMIT.JEWLRY;COIN.')",
         "orientation": "v",
         "text": "",
         "type": "bar",
         "x": [
          "CHINA P RP",
          "U S A"
         ],
         "y": [
          9657.614900000004,
          1292109.7181999998
         ]
        },
        {
         "marker": {
          "color": "rgba(128, 177, 211, 0.6)",
          "line": {
           "color": "rgba(128, 177, 211, 0.8999999999999999)",
           "width": 1
          }
         },
         "name": "('value', 'NUCLEAR REACTORS; BOILERS, MACHINERY AND MECHANICAL APPLIANCES; PARTS THEREOF.')",
         "orientation": "v",
         "text": "",
         "type": "bar",
         "x": [
          "CHINA P RP",
          "U S A"
         ],
         "y": [
          111555.27850000001,
          604445.6602999999
         ]
        },
        {
         "marker": {
          "color": "rgba(255, 153, 51, 0.6)",
          "line": {
           "color": "rgba(255, 153, 51, 0.8999999999999999)",
           "width": 1
          }
         },
         "name": "('value', 'ORGANIC CHEMICALS')",
         "orientation": "v",
         "text": "",
         "type": "bar",
         "x": [
          "CHINA P RP",
          "U S A"
         ],
         "y": [
          380167.9199999999,
          250868.74180000005
         ]
        },
        {
         "marker": {
          "color": "rgba(55, 128, 191, 0.6)",
          "line": {
           "color": "rgba(55, 128, 191, 0.8999999999999999)",
           "width": 1
          }
         },
         "name": "('value', 'PHARMACEUTICAL PRODUCTS')",
         "orientation": "v",
         "text": "",
         "type": "bar",
         "x": [
          "CHINA P RP",
          "U S A"
         ],
         "y": [
          6353.959300000003,
          861068.5237000001
         ]
        },
        {
         "marker": {
          "color": "rgba(50, 171, 96, 0.6)",
          "line": {
           "color": "rgba(50, 171, 96, 0.8999999999999999)",
           "width": 1
          }
         },
         "name": "('value', 'PLASTIC AND ARTICLES THEREOF.')",
         "orientation": "v",
         "text": "",
         "type": "bar",
         "x": [
          "CHINA P RP",
          "U S A"
         ],
         "y": [
          123368.8858,
          122955.20089999995
         ]
        },
        {
         "marker": {
          "color": "rgba(128, 0, 128, 0.6)",
          "line": {
           "color": "rgba(128, 0, 128, 0.8999999999999999)",
           "width": 1
          }
         },
         "name": "('value', 'VEHICLES OTHER THAN RAILWAY OR TRAMWAY ROLLING STOCK; AND PARTS AND ACCESSORIES THEREOF.')",
         "orientation": "v",
         "text": "",
         "type": "bar",
         "x": [
          "CHINA P RP",
          "U S A"
         ],
         "y": [
          11703.250999999993,
          343349.4371999999
         ]
        }
       ],
       "layout": {
        "barmode": "stack",
        "height": 800,
        "legend": {
         "font": {
          "size": 7
         },
         "x": 2,
         "y": 0
        },
        "paper_bgcolor": "#F5F6F9",
        "plot_bgcolor": "#F5F6F9",
        "template": {
         "data": {
          "bar": [
           {
            "error_x": {
             "color": "#2a3f5f"
            },
            "error_y": {
             "color": "#2a3f5f"
            },
            "marker": {
             "line": {
              "color": "#E5ECF6",
              "width": 0.5
             }
            },
            "type": "bar"
           }
          ],
          "barpolar": [
           {
            "marker": {
             "line": {
              "color": "#E5ECF6",
              "width": 0.5
             }
            },
            "type": "barpolar"
           }
          ],
          "carpet": [
           {
            "aaxis": {
             "endlinecolor": "#2a3f5f",
             "gridcolor": "white",
             "linecolor": "white",
             "minorgridcolor": "white",
             "startlinecolor": "#2a3f5f"
            },
            "baxis": {
             "endlinecolor": "#2a3f5f",
             "gridcolor": "white",
             "linecolor": "white",
             "minorgridcolor": "white",
             "startlinecolor": "#2a3f5f"
            },
            "type": "carpet"
           }
          ],
          "choropleth": [
           {
            "colorbar": {
             "outlinewidth": 0,
             "ticks": ""
            },
            "type": "choropleth"
           }
          ],
          "contour": [
           {
            "colorbar": {
             "outlinewidth": 0,
             "ticks": ""
            },
            "colorscale": [
             [
              0.0,
              "#0d0887"
             ],
             [
              0.1111111111111111,
              "#46039f"
             ],
             [
              0.2222222222222222,
              "#7201a8"
             ],
             [
              0.3333333333333333,
              "#9c179e"
             ],
             [
              0.4444444444444444,
              "#bd3786"
             ],
             [
              0.5555555555555556,
              "#d8576b"
             ],
             [
              0.6666666666666666,
              "#ed7953"
             ],
             [
              0.7777777777777778,
              "#fb9f3a"
             ],
             [
              0.8888888888888888,
              "#fdca26"
             ],
             [
              1.0,
              "#f0f921"
             ]
            ],
            "type": "contour"
           }
          ],
          "contourcarpet": [
           {
            "colorbar": {
             "outlinewidth": 0,
             "ticks": ""
            },
            "type": "contourcarpet"
           }
          ],
          "heatmap": [
           {
            "colorbar": {
             "outlinewidth": 0,
             "ticks": ""
            },
            "colorscale": [
             [
              0.0,
              "#0d0887"
             ],
             [
              0.1111111111111111,
              "#46039f"
             ],
             [
              0.2222222222222222,
              "#7201a8"
             ],
             [
              0.3333333333333333,
              "#9c179e"
             ],
             [
              0.4444444444444444,
              "#bd3786"
             ],
             [
              0.5555555555555556,
              "#d8576b"
             ],
             [
              0.6666666666666666,
              "#ed7953"
             ],
             [
              0.7777777777777778,
              "#fb9f3a"
             ],
             [
              0.8888888888888888,
              "#fdca26"
             ],
             [
              1.0,
              "#f0f921"
             ]
            ],
            "type": "heatmap"
           }
          ],
          "heatmapgl": [
           {
            "colorbar": {
             "outlinewidth": 0,
             "ticks": ""
            },
            "colorscale": [
             [
              0.0,
              "#0d0887"
             ],
             [
              0.1111111111111111,
              "#46039f"
             ],
             [
              0.2222222222222222,
              "#7201a8"
             ],
             [
              0.3333333333333333,
              "#9c179e"
             ],
             [
              0.4444444444444444,
              "#bd3786"
             ],
             [
              0.5555555555555556,
              "#d8576b"
             ],
             [
              0.6666666666666666,
              "#ed7953"
             ],
             [
              0.7777777777777778,
              "#fb9f3a"
             ],
             [
              0.8888888888888888,
              "#fdca26"
             ],
             [
              1.0,
              "#f0f921"
             ]
            ],
            "type": "heatmapgl"
           }
          ],
          "histogram": [
           {
            "marker": {
             "colorbar": {
              "outlinewidth": 0,
              "ticks": ""
             }
            },
            "type": "histogram"
           }
          ],
          "histogram2d": [
           {
            "colorbar": {
             "outlinewidth": 0,
             "ticks": ""
            },
            "colorscale": [
             [
              0.0,
              "#0d0887"
             ],
             [
              0.1111111111111111,
              "#46039f"
             ],
             [
              0.2222222222222222,
              "#7201a8"
             ],
             [
              0.3333333333333333,
              "#9c179e"
             ],
             [
              0.4444444444444444,
              "#bd3786"
             ],
             [
              0.5555555555555556,
              "#d8576b"
             ],
             [
              0.6666666666666666,
              "#ed7953"
             ],
             [
              0.7777777777777778,
              "#fb9f3a"
             ],
             [
              0.8888888888888888,
              "#fdca26"
             ],
             [
              1.0,
              "#f0f921"
             ]
            ],
            "type": "histogram2d"
           }
          ],
          "histogram2dcontour": [
           {
            "colorbar": {
             "outlinewidth": 0,
             "ticks": ""
            },
            "colorscale": [
             [
              0.0,
              "#0d0887"
             ],
             [
              0.1111111111111111,
              "#46039f"
             ],
             [
              0.2222222222222222,
              "#7201a8"
             ],
             [
              0.3333333333333333,
              "#9c179e"
             ],
             [
              0.4444444444444444,
              "#bd3786"
             ],
             [
              0.5555555555555556,
              "#d8576b"
             ],
             [
              0.6666666666666666,
              "#ed7953"
             ],
             [
              0.7777777777777778,
              "#fb9f3a"
             ],
             [
              0.8888888888888888,
              "#fdca26"
             ],
             [
              1.0,
              "#f0f921"
             ]
            ],
            "type": "histogram2dcontour"
           }
          ],
          "mesh3d": [
           {
            "colorbar": {
             "outlinewidth": 0,
             "ticks": ""
            },
            "type": "mesh3d"
           }
          ],
          "parcoords": [
           {
            "line": {
             "colorbar": {
              "outlinewidth": 0,
              "ticks": ""
             }
            },
            "type": "parcoords"
           }
          ],
          "pie": [
           {
            "automargin": true,
            "type": "pie"
           }
          ],
          "scatter": [
           {
            "marker": {
             "colorbar": {
              "outlinewidth": 0,
              "ticks": ""
             }
            },
            "type": "scatter"
           }
          ],
          "scatter3d": [
           {
            "line": {
             "colorbar": {
              "outlinewidth": 0,
              "ticks": ""
             }
            },
            "marker": {
             "colorbar": {
              "outlinewidth": 0,
              "ticks": ""
             }
            },
            "type": "scatter3d"
           }
          ],
          "scattercarpet": [
           {
            "marker": {
             "colorbar": {
              "outlinewidth": 0,
              "ticks": ""
             }
            },
            "type": "scattercarpet"
           }
          ],
          "scattergeo": [
           {
            "marker": {
             "colorbar": {
              "outlinewidth": 0,
              "ticks": ""
             }
            },
            "type": "scattergeo"
           }
          ],
          "scattergl": [
           {
            "marker": {
             "colorbar": {
              "outlinewidth": 0,
              "ticks": ""
             }
            },
            "type": "scattergl"
           }
          ],
          "scattermapbox": [
           {
            "marker": {
             "colorbar": {
              "outlinewidth": 0,
              "ticks": ""
             }
            },
            "type": "scattermapbox"
           }
          ],
          "scatterpolar": [
           {
            "marker": {
             "colorbar": {
              "outlinewidth": 0,
              "ticks": ""
             }
            },
            "type": "scatterpolar"
           }
          ],
          "scatterpolargl": [
           {
            "marker": {
             "colorbar": {
              "outlinewidth": 0,
              "ticks": ""
             }
            },
            "type": "scatterpolargl"
           }
          ],
          "scatterternary": [
           {
            "marker": {
             "colorbar": {
              "outlinewidth": 0,
              "ticks": ""
             }
            },
            "type": "scatterternary"
           }
          ],
          "surface": [
           {
            "colorbar": {
             "outlinewidth": 0,
             "ticks": ""
            },
            "colorscale": [
             [
              0.0,
              "#0d0887"
             ],
             [
              0.1111111111111111,
              "#46039f"
             ],
             [
              0.2222222222222222,
              "#7201a8"
             ],
             [
              0.3333333333333333,
              "#9c179e"
             ],
             [
              0.4444444444444444,
              "#bd3786"
             ],
             [
              0.5555555555555556,
              "#d8576b"
             ],
             [
              0.6666666666666666,
              "#ed7953"
             ],
             [
              0.7777777777777778,
              "#fb9f3a"
             ],
             [
              0.8888888888888888,
              "#fdca26"
             ],
             [
              1.0,
              "#f0f921"
             ]
            ],
            "type": "surface"
           }
          ],
          "table": [
           {
            "cells": {
             "fill": {
              "color": "#EBF0F8"
             },
             "line": {
              "color": "white"
             }
            },
            "header": {
             "fill": {
              "color": "#C8D4E3"
             },
             "line": {
              "color": "white"
             }
            },
            "type": "table"
           }
          ]
         },
         "layout": {
          "annotationdefaults": {
           "arrowcolor": "#2a3f5f",
           "arrowhead": 0,
           "arrowwidth": 1
          },
          "coloraxis": {
           "colorbar": {
            "outlinewidth": 0,
            "ticks": ""
           }
          },
          "colorscale": {
           "diverging": [
            [
             0,
             "#8e0152"
            ],
            [
             0.1,
             "#c51b7d"
            ],
            [
             0.2,
             "#de77ae"
            ],
            [
             0.3,
             "#f1b6da"
            ],
            [
             0.4,
             "#fde0ef"
            ],
            [
             0.5,
             "#f7f7f7"
            ],
            [
             0.6,
             "#e6f5d0"
            ],
            [
             0.7,
             "#b8e186"
            ],
            [
             0.8,
             "#7fbc41"
            ],
            [
             0.9,
             "#4d9221"
            ],
            [
             1,
             "#276419"
            ]
           ],
           "sequential": [
            [
             0.0,
             "#0d0887"
            ],
            [
             0.1111111111111111,
             "#46039f"
            ],
            [
             0.2222222222222222,
             "#7201a8"
            ],
            [
             0.3333333333333333,
             "#9c179e"
            ],
            [
             0.4444444444444444,
             "#bd3786"
            ],
            [
             0.5555555555555556,
             "#d8576b"
            ],
            [
             0.6666666666666666,
             "#ed7953"
            ],
            [
             0.7777777777777778,
             "#fb9f3a"
            ],
            [
             0.8888888888888888,
             "#fdca26"
            ],
            [
             1.0,
             "#f0f921"
            ]
           ],
           "sequentialminus": [
            [
             0.0,
             "#0d0887"
            ],
            [
             0.1111111111111111,
             "#46039f"
            ],
            [
             0.2222222222222222,
             "#7201a8"
            ],
            [
             0.3333333333333333,
             "#9c179e"
            ],
            [
             0.4444444444444444,
             "#bd3786"
            ],
            [
             0.5555555555555556,
             "#d8576b"
            ],
            [
             0.6666666666666666,
             "#ed7953"
            ],
            [
             0.7777777777777778,
             "#fb9f3a"
            ],
            [
             0.8888888888888888,
             "#fdca26"
            ],
            [
             1.0,
             "#f0f921"
            ]
           ]
          },
          "colorway": [
           "#636efa",
           "#EF553B",
           "#00cc96",
           "#ab63fa",
           "#FFA15A",
           "#19d3f3",
           "#FF6692",
           "#B6E880",
           "#FF97FF",
           "#FECB52"
          ],
          "font": {
           "color": "#2a3f5f"
          },
          "geo": {
           "bgcolor": "white",
           "lakecolor": "white",
           "landcolor": "#E5ECF6",
           "showlakes": true,
           "showland": true,
           "subunitcolor": "white"
          },
          "hoverlabel": {
           "align": "left"
          },
          "hovermode": "closest",
          "mapbox": {
           "style": "light"
          },
          "paper_bgcolor": "white",
          "plot_bgcolor": "#E5ECF6",
          "polar": {
           "angularaxis": {
            "gridcolor": "white",
            "linecolor": "white",
            "ticks": ""
           },
           "bgcolor": "#E5ECF6",
           "radialaxis": {
            "gridcolor": "white",
            "linecolor": "white",
            "ticks": ""
           }
          },
          "scene": {
           "xaxis": {
            "backgroundcolor": "#E5ECF6",
            "gridcolor": "white",
            "gridwidth": 2,
            "linecolor": "white",
            "showbackground": true,
            "ticks": "",
            "zerolinecolor": "white"
           },
           "yaxis": {
            "backgroundcolor": "#E5ECF6",
            "gridcolor": "white",
            "gridwidth": 2,
            "linecolor": "white",
            "showbackground": true,
            "ticks": "",
            "zerolinecolor": "white"
           },
           "zaxis": {
            "backgroundcolor": "#E5ECF6",
            "gridcolor": "white",
            "gridwidth": 2,
            "linecolor": "white",
            "showbackground": true,
            "ticks": "",
            "zerolinecolor": "white"
           }
          },
          "shapedefaults": {
           "line": {
            "color": "#2a3f5f"
           }
          },
          "ternary": {
           "aaxis": {
            "gridcolor": "white",
            "linecolor": "white",
            "ticks": ""
           },
           "baxis": {
            "gridcolor": "white",
            "linecolor": "white",
            "ticks": ""
           },
           "bgcolor": "#E5ECF6",
           "caxis": {
            "gridcolor": "white",
            "linecolor": "white",
            "ticks": ""
           }
          },
          "title": {
           "x": 0.05
          },
          "xaxis": {
           "automargin": true,
           "gridcolor": "white",
           "linecolor": "white",
           "ticks": "",
           "title": {
            "standoff": 15
           },
           "zerolinecolor": "white",
           "zerolinewidth": 2
          },
          "yaxis": {
           "automargin": true,
           "gridcolor": "white",
           "linecolor": "white",
           "ticks": "",
           "title": {
            "standoff": 15
           },
           "zerolinecolor": "white",
           "zerolinewidth": 2
          }
         }
        },
        "title": {
         "font": {
          "color": "#4D5663"
         }
        },
        "width": 1200,
        "xaxis": {
         "gridcolor": "#E1E5ED",
         "showgrid": true,
         "tickfont": {
          "color": "#4D5663"
         },
         "title": {
          "font": {
           "color": "#4D5663"
          },
          "text": ""
         },
         "zerolinecolor": "#E1E5ED"
        },
        "yaxis": {
         "gridcolor": "#E1E5ED",
         "showgrid": true,
         "tickfont": {
          "color": "#4D5663"
         },
         "title": {
          "font": {
           "color": "#4D5663"
          },
          "text": ""
         },
         "zerolinecolor": "#E1E5ED"
        }
       }
      },
      "text/html": "<div>\n        \n        \n            <div id=\"99e5783b-a88c-4cc0-b974-abb6273fcaa0\" class=\"plotly-graph-div\" style=\"height:800px; width:1200px;\"></div>\n            <script type=\"text/javascript\">\n                require([\"plotly\"], function(Plotly) {\n                    window.PLOTLYENV=window.PLOTLYENV || {};\n                    \n                if (document.getElementById(\"99e5783b-a88c-4cc0-b974-abb6273fcaa0\")) {\n                    Plotly.newPlot(\n                        '99e5783b-a88c-4cc0-b974-abb6273fcaa0',\n                        [{\"marker\": {\"color\": \"rgba(255, 153, 51, 0.6)\", \"line\": {\"color\": \"rgba(255, 153, 51, 1.0)\", \"width\": 1}}, \"name\": \"('value', 'ALUMINIUM AND ARTICLES THEREOF.')\", \"orientation\": \"v\", \"text\": \"\", \"type\": \"bar\", \"x\": [\"CHINA P RP\", \"U S A\"], \"y\": [7004.838600000004, 86107.05959999998]}, {\"marker\": {\"color\": \"rgba(55, 128, 191, 0.6)\", \"line\": {\"color\": \"rgba(55, 128, 191, 1.0)\", \"width\": 1}}, \"name\": \"('value', 'ARTICLES OF APPAREL AND CLOTHING ACCESSORIES; KNITTED OR CORCHETED.')\", \"orientation\": \"v\", \"text\": \"\", \"type\": \"bar\", \"x\": [\"CHINA P RP\", \"U S A\"], \"y\": [4665.412, 272081.2024999999]}, {\"marker\": {\"color\": \"rgba(50, 171, 96, 0.6)\", \"line\": {\"color\": \"rgba(50, 171, 96, 1.0)\", \"width\": 1}}, \"name\": \"('value', 'ARTICLES OF APPAREL AND CLOTHING ACCESSORIES; NOT KNITTED OR CROCHETED.')\", \"orientation\": \"v\", \"text\": \"\", \"type\": \"bar\", \"x\": [\"CHINA P RP\", \"U S A\"], \"y\": [7260.593999999998, 296811.33379999996]}, {\"marker\": {\"color\": \"rgba(128, 0, 128, 0.6)\", \"line\": {\"color\": \"rgba(128, 0, 128, 1.0)\", \"width\": 1}}, \"name\": \"('value', 'ARTICLES OF IRON OR STEEL')\", \"orientation\": \"v\", \"text\": \"\", \"type\": \"bar\", \"x\": [\"CHINA P RP\", \"U S A\"], \"y\": [10201.0543, 220873.8231000001]}, {\"marker\": {\"color\": \"rgba(219, 64, 82, 0.6)\", \"line\": {\"color\": \"rgba(219, 64, 82, 1.0)\", \"width\": 1}}, \"name\": \"('value', 'CEREALS.')\", \"orientation\": \"v\", \"text\": \"\", \"type\": \"bar\", \"x\": [\"CHINA P RP\", \"U S A\"], \"y\": [74.32219999999998, 28886.8339]}, {\"marker\": {\"color\": \"rgba(0, 128, 128, 0.6)\", \"line\": {\"color\": \"rgba(0, 128, 128, 1.0)\", \"width\": 1}}, \"name\": \"('value', 'ELECTRICAL MACHINERY AND EQUIPMENT AND PARTS THEREOF; SOUND RECORDERS AND REPRODUCERS; TELEVISION IMAGE AND SOUND RECORDERS AND REPRODUCERS,AND PARTS.')\", \"orientation\": \"v\", \"text\": \"\", \"type\": \"bar\", \"x\": [\"CHINA P RP\", \"U S A\"], \"y\": [119736.6683, 326537.85170000006]}, {\"marker\": {\"color\": \"rgba(255, 255, 51, 0.6)\", \"line\": {\"color\": \"rgba(255, 255, 51, 1.0)\", \"width\": 1}}, \"name\": \"('value', 'FISH AND CRUSTACEANS; MOLLUSCS AND OTHER AQUATIC INVERTABRATES.')\", \"orientation\": \"v\", \"text\": \"\", \"type\": \"bar\", \"x\": [\"CHINA P RP\", \"U S A\"], \"y\": [199958.89499999996, 306477.13210000005]}, {\"marker\": {\"color\": \"rgba(128, 128, 0, 0.6)\", \"line\": {\"color\": \"rgba(128, 128, 0, 1.0)\", \"width\": 1}}, \"name\": \"('value', 'IRON AND STEEL')\", \"orientation\": \"v\", \"text\": \"\", \"type\": \"bar\", \"x\": [\"CHINA P RP\", \"U S A\"], \"y\": [77026.7815, 23850.335299999995]}, {\"marker\": {\"color\": \"rgba(251, 128, 114, 0.6)\", \"line\": {\"color\": \"rgba(251, 128, 114, 1.0)\", \"width\": 1}}, \"name\": \"('value', 'MINERAL FUELS; MINERAL OILS AND PRODUCTS OF THEIR DISTILLATION; BITUMINOUS SUBSTANCES; MINERAL WAXES.')\", \"orientation\": \"v\", \"text\": \"\", \"type\": \"bar\", \"x\": [\"CHINA P RP\", \"U S A\"], \"y\": [313947.54129999987, 311675.64040000003]}, {\"marker\": {\"color\": \"rgba(128, 177, 211, 0.6)\", \"line\": {\"color\": \"rgba(128, 177, 211, 1.0)\", \"width\": 1}}, \"name\": \"('value', 'NATURAL OR CULTURED PEARLS;PRECIOUS OR SEMIPRECIOUS STONES,PRE.METALS,CLAD WITH PRE.METAL AND ARTCLS THEREOF;IMIT.JEWLRY;COIN.')\", \"orientation\": \"v\", \"text\": \"\", \"type\": \"bar\", \"x\": [\"CHINA P RP\", \"U S A\"], \"y\": [9657.614900000004, 1292109.7181999998]}, {\"marker\": {\"color\": \"rgba(128, 177, 211, 0.6)\", \"line\": {\"color\": \"rgba(128, 177, 211, 0.8999999999999999)\", \"width\": 1}}, \"name\": \"('value', 'NUCLEAR REACTORS; BOILERS, MACHINERY AND MECHANICAL APPLIANCES; PARTS THEREOF.')\", \"orientation\": \"v\", \"text\": \"\", \"type\": \"bar\", \"x\": [\"CHINA P RP\", \"U S A\"], \"y\": [111555.27850000001, 604445.6602999999]}, {\"marker\": {\"color\": \"rgba(255, 153, 51, 0.6)\", \"line\": {\"color\": \"rgba(255, 153, 51, 0.8999999999999999)\", \"width\": 1}}, \"name\": \"('value', 'ORGANIC CHEMICALS')\", \"orientation\": \"v\", \"text\": \"\", \"type\": \"bar\", \"x\": [\"CHINA P RP\", \"U S A\"], \"y\": [380167.9199999999, 250868.74180000005]}, {\"marker\": {\"color\": \"rgba(55, 128, 191, 0.6)\", \"line\": {\"color\": \"rgba(55, 128, 191, 0.8999999999999999)\", \"width\": 1}}, \"name\": \"('value', 'PHARMACEUTICAL PRODUCTS')\", \"orientation\": \"v\", \"text\": \"\", \"type\": \"bar\", \"x\": [\"CHINA P RP\", \"U S A\"], \"y\": [6353.959300000003, 861068.5237000001]}, {\"marker\": {\"color\": \"rgba(50, 171, 96, 0.6)\", \"line\": {\"color\": \"rgba(50, 171, 96, 0.8999999999999999)\", \"width\": 1}}, \"name\": \"('value', 'PLASTIC AND ARTICLES THEREOF.')\", \"orientation\": \"v\", \"text\": \"\", \"type\": \"bar\", \"x\": [\"CHINA P RP\", \"U S A\"], \"y\": [123368.8858, 122955.20089999995]}, {\"marker\": {\"color\": \"rgba(128, 0, 128, 0.6)\", \"line\": {\"color\": \"rgba(128, 0, 128, 0.8999999999999999)\", \"width\": 1}}, \"name\": \"('value', 'VEHICLES OTHER THAN RAILWAY OR TRAMWAY ROLLING STOCK; AND PARTS AND ACCESSORIES THEREOF.')\", \"orientation\": \"v\", \"text\": \"\", \"type\": \"bar\", \"x\": [\"CHINA P RP\", \"U S A\"], \"y\": [11703.250999999993, 343349.4371999999]}],\n                        {\"barmode\": \"stack\", \"height\": 800, \"legend\": {\"font\": {\"size\": 7}, \"x\": 2, \"y\": 0}, \"paper_bgcolor\": \"#F5F6F9\", \"plot_bgcolor\": \"#F5F6F9\", \"template\": {\"data\": {\"bar\": [{\"error_x\": {\"color\": \"#2a3f5f\"}, \"error_y\": {\"color\": \"#2a3f5f\"}, \"marker\": {\"line\": {\"color\": \"#E5ECF6\", \"width\": 0.5}}, \"type\": \"bar\"}], \"barpolar\": [{\"marker\": {\"line\": {\"color\": \"#E5ECF6\", \"width\": 0.5}}, \"type\": \"barpolar\"}], \"carpet\": [{\"aaxis\": {\"endlinecolor\": \"#2a3f5f\", \"gridcolor\": \"white\", \"linecolor\": \"white\", \"minorgridcolor\": \"white\", \"startlinecolor\": \"#2a3f5f\"}, \"baxis\": {\"endlinecolor\": \"#2a3f5f\", \"gridcolor\": \"white\", \"linecolor\": \"white\", \"minorgridcolor\": \"white\", \"startlinecolor\": \"#2a3f5f\"}, \"type\": \"carpet\"}], \"choropleth\": [{\"colorbar\": {\"outlinewidth\": 0, \"ticks\": \"\"}, \"type\": \"choropleth\"}], \"contour\": [{\"colorbar\": {\"outlinewidth\": 0, \"ticks\": \"\"}, \"colorscale\": [[0.0, \"#0d0887\"], [0.1111111111111111, \"#46039f\"], [0.2222222222222222, \"#7201a8\"], [0.3333333333333333, \"#9c179e\"], [0.4444444444444444, \"#bd3786\"], [0.5555555555555556, \"#d8576b\"], [0.6666666666666666, \"#ed7953\"], [0.7777777777777778, \"#fb9f3a\"], [0.8888888888888888, \"#fdca26\"], [1.0, \"#f0f921\"]], \"type\": \"contour\"}], \"contourcarpet\": [{\"colorbar\": {\"outlinewidth\": 0, \"ticks\": \"\"}, \"type\": \"contourcarpet\"}], \"heatmap\": [{\"colorbar\": {\"outlinewidth\": 0, \"ticks\": \"\"}, \"colorscale\": [[0.0, \"#0d0887\"], [0.1111111111111111, \"#46039f\"], [0.2222222222222222, \"#7201a8\"], [0.3333333333333333, \"#9c179e\"], [0.4444444444444444, \"#bd3786\"], [0.5555555555555556, \"#d8576b\"], [0.6666666666666666, \"#ed7953\"], [0.7777777777777778, \"#fb9f3a\"], [0.8888888888888888, \"#fdca26\"], [1.0, \"#f0f921\"]], \"type\": \"heatmap\"}], \"heatmapgl\": [{\"colorbar\": {\"outlinewidth\": 0, \"ticks\": \"\"}, \"colorscale\": [[0.0, \"#0d0887\"], [0.1111111111111111, \"#46039f\"], [0.2222222222222222, \"#7201a8\"], [0.3333333333333333, \"#9c179e\"], [0.4444444444444444, \"#bd3786\"], [0.5555555555555556, \"#d8576b\"], [0.6666666666666666, \"#ed7953\"], [0.7777777777777778, \"#fb9f3a\"], [0.8888888888888888, \"#fdca26\"], [1.0, \"#f0f921\"]], \"type\": \"heatmapgl\"}], \"histogram\": [{\"marker\": {\"colorbar\": {\"outlinewidth\": 0, \"ticks\": \"\"}}, \"type\": \"histogram\"}], \"histogram2d\": [{\"colorbar\": {\"outlinewidth\": 0, \"ticks\": \"\"}, \"colorscale\": [[0.0, \"#0d0887\"], [0.1111111111111111, \"#46039f\"], [0.2222222222222222, \"#7201a8\"], [0.3333333333333333, \"#9c179e\"], [0.4444444444444444, \"#bd3786\"], [0.5555555555555556, \"#d8576b\"], [0.6666666666666666, \"#ed7953\"], [0.7777777777777778, \"#fb9f3a\"], [0.8888888888888888, \"#fdca26\"], [1.0, \"#f0f921\"]], \"type\": \"histogram2d\"}], \"histogram2dcontour\": [{\"colorbar\": {\"outlinewidth\": 0, \"ticks\": \"\"}, \"colorscale\": [[0.0, \"#0d0887\"], [0.1111111111111111, \"#46039f\"], [0.2222222222222222, \"#7201a8\"], [0.3333333333333333, \"#9c179e\"], [0.4444444444444444, \"#bd3786\"], [0.5555555555555556, \"#d8576b\"], [0.6666666666666666, \"#ed7953\"], [0.7777777777777778, \"#fb9f3a\"], [0.8888888888888888, \"#fdca26\"], [1.0, \"#f0f921\"]], \"type\": \"histogram2dcontour\"}], \"mesh3d\": [{\"colorbar\": {\"outlinewidth\": 0, \"ticks\": \"\"}, \"type\": \"mesh3d\"}], \"parcoords\": [{\"line\": {\"colorbar\": {\"outlinewidth\": 0, \"ticks\": \"\"}}, \"type\": \"parcoords\"}], \"pie\": [{\"automargin\": true, \"type\": \"pie\"}], \"scatter\": [{\"marker\": {\"colorbar\": {\"outlinewidth\": 0, \"ticks\": \"\"}}, \"type\": \"scatter\"}], \"scatter3d\": [{\"line\": {\"colorbar\": {\"outlinewidth\": 0, \"ticks\": \"\"}}, \"marker\": {\"colorbar\": {\"outlinewidth\": 0, \"ticks\": \"\"}}, \"type\": \"scatter3d\"}], \"scattercarpet\": [{\"marker\": {\"colorbar\": {\"outlinewidth\": 0, \"ticks\": \"\"}}, \"type\": \"scattercarpet\"}], \"scattergeo\": [{\"marker\": {\"colorbar\": {\"outlinewidth\": 0, \"ticks\": \"\"}}, \"type\": \"scattergeo\"}], \"scattergl\": [{\"marker\": {\"colorbar\": {\"outlinewidth\": 0, \"ticks\": \"\"}}, \"type\": \"scattergl\"}], \"scattermapbox\": [{\"marker\": {\"colorbar\": {\"outlinewidth\": 0, \"ticks\": \"\"}}, \"type\": \"scattermapbox\"}], \"scatterpolar\": [{\"marker\": {\"colorbar\": {\"outlinewidth\": 0, \"ticks\": \"\"}}, \"type\": \"scatterpolar\"}], \"scatterpolargl\": [{\"marker\": {\"colorbar\": {\"outlinewidth\": 0, \"ticks\": \"\"}}, \"type\": \"scatterpolargl\"}], \"scatterternary\": [{\"marker\": {\"colorbar\": {\"outlinewidth\": 0, \"ticks\": \"\"}}, \"type\": \"scatterternary\"}], \"surface\": [{\"colorbar\": {\"outlinewidth\": 0, \"ticks\": \"\"}, \"colorscale\": [[0.0, \"#0d0887\"], [0.1111111111111111, \"#46039f\"], [0.2222222222222222, \"#7201a8\"], [0.3333333333333333, \"#9c179e\"], [0.4444444444444444, \"#bd3786\"], [0.5555555555555556, \"#d8576b\"], [0.6666666666666666, \"#ed7953\"], [0.7777777777777778, \"#fb9f3a\"], [0.8888888888888888, \"#fdca26\"], [1.0, \"#f0f921\"]], \"type\": \"surface\"}], \"table\": [{\"cells\": {\"fill\": {\"color\": \"#EBF0F8\"}, \"line\": {\"color\": \"white\"}}, \"header\": {\"fill\": {\"color\": \"#C8D4E3\"}, \"line\": {\"color\": \"white\"}}, \"type\": \"table\"}]}, \"layout\": {\"annotationdefaults\": {\"arrowcolor\": \"#2a3f5f\", \"arrowhead\": 0, \"arrowwidth\": 1}, \"coloraxis\": {\"colorbar\": {\"outlinewidth\": 0, \"ticks\": \"\"}}, \"colorscale\": {\"diverging\": [[0, \"#8e0152\"], [0.1, \"#c51b7d\"], [0.2, \"#de77ae\"], [0.3, \"#f1b6da\"], [0.4, \"#fde0ef\"], [0.5, \"#f7f7f7\"], [0.6, \"#e6f5d0\"], [0.7, \"#b8e186\"], [0.8, \"#7fbc41\"], [0.9, \"#4d9221\"], [1, \"#276419\"]], \"sequential\": [[0.0, \"#0d0887\"], [0.1111111111111111, \"#46039f\"], [0.2222222222222222, \"#7201a8\"], [0.3333333333333333, \"#9c179e\"], [0.4444444444444444, \"#bd3786\"], [0.5555555555555556, \"#d8576b\"], [0.6666666666666666, \"#ed7953\"], [0.7777777777777778, \"#fb9f3a\"], [0.8888888888888888, \"#fdca26\"], [1.0, \"#f0f921\"]], \"sequentialminus\": [[0.0, \"#0d0887\"], [0.1111111111111111, \"#46039f\"], [0.2222222222222222, \"#7201a8\"], [0.3333333333333333, \"#9c179e\"], [0.4444444444444444, \"#bd3786\"], [0.5555555555555556, \"#d8576b\"], [0.6666666666666666, \"#ed7953\"], [0.7777777777777778, \"#fb9f3a\"], [0.8888888888888888, \"#fdca26\"], [1.0, \"#f0f921\"]]}, \"colorway\": [\"#636efa\", \"#EF553B\", \"#00cc96\", \"#ab63fa\", \"#FFA15A\", \"#19d3f3\", \"#FF6692\", \"#B6E880\", \"#FF97FF\", \"#FECB52\"], \"font\": {\"color\": \"#2a3f5f\"}, \"geo\": {\"bgcolor\": \"white\", \"lakecolor\": \"white\", \"landcolor\": \"#E5ECF6\", \"showlakes\": true, \"showland\": true, \"subunitcolor\": \"white\"}, \"hoverlabel\": {\"align\": \"left\"}, \"hovermode\": \"closest\", \"mapbox\": {\"style\": \"light\"}, \"paper_bgcolor\": \"white\", \"plot_bgcolor\": \"#E5ECF6\", \"polar\": {\"angularaxis\": {\"gridcolor\": \"white\", \"linecolor\": \"white\", \"ticks\": \"\"}, \"bgcolor\": \"#E5ECF6\", \"radialaxis\": {\"gridcolor\": \"white\", \"linecolor\": \"white\", \"ticks\": \"\"}}, \"scene\": {\"xaxis\": {\"backgroundcolor\": \"#E5ECF6\", \"gridcolor\": \"white\", \"gridwidth\": 2, \"linecolor\": \"white\", \"showbackground\": true, \"ticks\": \"\", \"zerolinecolor\": \"white\"}, \"yaxis\": {\"backgroundcolor\": \"#E5ECF6\", \"gridcolor\": \"white\", \"gridwidth\": 2, \"linecolor\": \"white\", \"showbackground\": true, \"ticks\": \"\", \"zerolinecolor\": \"white\"}, \"zaxis\": {\"backgroundcolor\": \"#E5ECF6\", \"gridcolor\": \"white\", \"gridwidth\": 2, \"linecolor\": \"white\", \"showbackground\": true, \"ticks\": \"\", \"zerolinecolor\": \"white\"}}, \"shapedefaults\": {\"line\": {\"color\": \"#2a3f5f\"}}, \"ternary\": {\"aaxis\": {\"gridcolor\": \"white\", \"linecolor\": \"white\", \"ticks\": \"\"}, \"baxis\": {\"gridcolor\": \"white\", \"linecolor\": \"white\", \"ticks\": \"\"}, \"bgcolor\": \"#E5ECF6\", \"caxis\": {\"gridcolor\": \"white\", \"linecolor\": \"white\", \"ticks\": \"\"}}, \"title\": {\"x\": 0.05}, \"xaxis\": {\"automargin\": true, \"gridcolor\": \"white\", \"linecolor\": \"white\", \"ticks\": \"\", \"title\": {\"standoff\": 15}, \"zerolinecolor\": \"white\", \"zerolinewidth\": 2}, \"yaxis\": {\"automargin\": true, \"gridcolor\": \"white\", \"linecolor\": \"white\", \"ticks\": \"\", \"title\": {\"standoff\": 15}, \"zerolinecolor\": \"white\", \"zerolinewidth\": 2}}}, \"title\": {\"font\": {\"color\": \"#4D5663\"}}, \"width\": 1200, \"xaxis\": {\"gridcolor\": \"#E1E5ED\", \"showgrid\": true, \"tickfont\": {\"color\": \"#4D5663\"}, \"title\": {\"font\": {\"color\": \"#4D5663\"}, \"text\": \"\"}, \"zerolinecolor\": \"#E1E5ED\"}, \"yaxis\": {\"gridcolor\": \"#E1E5ED\", \"showgrid\": true, \"tickfont\": {\"color\": \"#4D5663\"}, \"title\": {\"font\": {\"color\": \"#4D5663\"}, \"text\": \"\"}, \"zerolinecolor\": \"#E1E5ED\"}},\n                        {\"responsive\": true}\n                    ).then(function(){\n                            \nvar gd = document.getElementById('99e5783b-a88c-4cc0-b974-abb6273fcaa0');\nvar x = new MutationObserver(function (mutations, observer) {{\n        var display = window.getComputedStyle(gd).display;\n        if (!display || display === 'none') {{\n            console.log([gd, 'removed!']);\n            Plotly.purge(gd);\n            observer.disconnect();\n        }}\n}});\n\n// Listen for the removal of the full notebook cells\nvar notebookContainer = gd.closest('#notebook-container');\nif (notebookContainer) {{\n    x.observe(notebookContainer, {childList: true});\n}}\n\n// Listen for the clearing of the current output cell\nvar outputEl = gd.closest('.output');\nif (outputEl) {{\n    x.observe(outputEl, {childList: true});\n}}\n\n                        })\n                };\n                });\n            </script>\n        </div>"
     },
     "metadata": {},
     "output_type": "display_data"
    }
   ],
   "source": [
    "usa_china_export = export_top_commodity_data[export_top_commodity_data['country'].isin(['U S A', 'CHINA P RP'])][['commodity', 'country', 'value']]\n",
    "\n",
    "fig = usa_china_export.sort_values(by='value', ascending=False).\\\n",
    "    groupby(['country', 'commodity']).sum().unstack().\\\n",
    "    iplot(kind='bar', barmode='stack', asFigure=True)\n",
    "\n",
    "# fig.layout = cf.Layout(height=1000, width=1400, legend=dict(font=dict(size=7), x=2, y=3))\n",
    "fig.layout.legend = dict(font=dict(size=7), x=2, y=0)\n",
    "fig.layout.height = 800\n",
    "fig.layout.width = 1200\n",
    "# fig.layout.size = 10\n",
    "fig.show()"
   ],
   "metadata": {
    "collapsed": false,
    "pycharm": {
     "name": "#%%\n"
    }
   }
  },
  {
   "cell_type": "code",
   "execution_count": 66,
   "outputs": [
    {
     "data": {
      "text/plain": "                                                          value               \\\nyear                                                       1997         1998   \ncommodity                                                                      \nAIRCRAFT; SPACECRAFT, AND PARTS THEREOF.                80.6369      80.6369   \nANIMAL OR VEGETABLE FATS AND OILS AND THEIR CLE...     109.3161     109.3161   \nARTICLES OF IRON OR STEEL                             9965.8349    9965.8349   \nELECTRICAL MACHINERY AND EQUIPMENT AND PARTS TH...  120181.9708  120181.9708   \nFERTILISERS.                                         12157.9383   12157.9383   \nINORGANIC CHEMICALS; ORGANIC OR INORGANIC COMPO...    4676.9453    4676.9453   \nIRON AND STEEL                                        7270.5377    7270.5377   \nMINERAL FUELS; MINERAL OILS AND PRODUCTS OF THE...    2603.9932    2603.9932   \nMISCELLANEOUS CHEMICAL PRODUCTS.                      7560.6767    7560.6767   \nNATURAL OR CULTURED PEARLS;PRECIOUS OR SEMIPREC...     918.6618     918.6618   \nNUCLEAR REACTORS; BOILERS, MACHINERY AND MECHAN...   83088.3433   83088.3433   \nOPTICAL; PHOTOGRAPHIC CINEMATOGRAPHIC MEASURING...    8349.4619    8349.4619   \nORGANIC CHEMICALS                                    49443.0604   49443.0604   \nPLASTIC AND ARTICLES THEREOF.                        16864.3907   16864.3907   \nVEHICLES OTHER THAN RAILWAY OR TRAMWAY ROLLING ...    7686.3916    7686.3916   \n\n                                                                              \\\nyear                                                       1999         2000   \ncommodity                                                                      \nAIRCRAFT; SPACECRAFT, AND PARTS THEREOF.                80.6369      80.6369   \nANIMAL OR VEGETABLE FATS AND OILS AND THEIR CLE...     109.3161     109.3161   \nARTICLES OF IRON OR STEEL                             9965.8349    9965.8349   \nELECTRICAL MACHINERY AND EQUIPMENT AND PARTS TH...  120181.9708  120181.9708   \nFERTILISERS.                                         12157.9383   12157.9383   \nINORGANIC CHEMICALS; ORGANIC OR INORGANIC COMPO...    4676.9453    4676.9453   \nIRON AND STEEL                                        7270.5377    7270.5377   \nMINERAL FUELS; MINERAL OILS AND PRODUCTS OF THE...    2603.9932    2603.9932   \nMISCELLANEOUS CHEMICAL PRODUCTS.                      7560.6767    7560.6767   \nNATURAL OR CULTURED PEARLS;PRECIOUS OR SEMIPREC...     918.6618     918.6618   \nNUCLEAR REACTORS; BOILERS, MACHINERY AND MECHAN...   83088.3433   83088.3433   \nOPTICAL; PHOTOGRAPHIC CINEMATOGRAPHIC MEASURING...    8349.4619    8349.4619   \nORGANIC CHEMICALS                                    49443.0604   49443.0604   \nPLASTIC AND ARTICLES THEREOF.                        16864.3907   16864.3907   \nVEHICLES OTHER THAN RAILWAY OR TRAMWAY ROLLING ...    7686.3916    7686.3916   \n\n                                                                              \\\nyear                                                       2001         2002   \ncommodity                                                                      \nAIRCRAFT; SPACECRAFT, AND PARTS THEREOF.                80.6369      80.6369   \nANIMAL OR VEGETABLE FATS AND OILS AND THEIR CLE...     109.3161     109.3161   \nARTICLES OF IRON OR STEEL                             9965.8349    9965.8349   \nELECTRICAL MACHINERY AND EQUIPMENT AND PARTS TH...  120181.9708  120181.9708   \nFERTILISERS.                                         12157.9383   12157.9383   \nINORGANIC CHEMICALS; ORGANIC OR INORGANIC COMPO...    4676.9453    4676.9453   \nIRON AND STEEL                                        7270.5377    7270.5377   \nMINERAL FUELS; MINERAL OILS AND PRODUCTS OF THE...    2603.9932    2603.9932   \nMISCELLANEOUS CHEMICAL PRODUCTS.                      7560.6767    7560.6767   \nNATURAL OR CULTURED PEARLS;PRECIOUS OR SEMIPREC...     918.6618     918.6618   \nNUCLEAR REACTORS; BOILERS, MACHINERY AND MECHAN...   83088.3433   83088.3433   \nOPTICAL; PHOTOGRAPHIC CINEMATOGRAPHIC MEASURING...    8349.4619    8349.4619   \nORGANIC CHEMICALS                                    49443.0604   49443.0604   \nPLASTIC AND ARTICLES THEREOF.                        16864.3907   16864.3907   \nVEHICLES OTHER THAN RAILWAY OR TRAMWAY ROLLING ...    7686.3916    7686.3916   \n\n                                                                              \\\nyear                                                       2003         2004   \ncommodity                                                                      \nAIRCRAFT; SPACECRAFT, AND PARTS THEREOF.                80.6369      80.6369   \nANIMAL OR VEGETABLE FATS AND OILS AND THEIR CLE...     109.3161     109.3161   \nARTICLES OF IRON OR STEEL                             9965.8349    9965.8349   \nELECTRICAL MACHINERY AND EQUIPMENT AND PARTS TH...  120181.9708  120181.9708   \nFERTILISERS.                                         12157.9383   12157.9383   \nINORGANIC CHEMICALS; ORGANIC OR INORGANIC COMPO...    4676.9453    4676.9453   \nIRON AND STEEL                                        7270.5377    7270.5377   \nMINERAL FUELS; MINERAL OILS AND PRODUCTS OF THE...    2603.9932    2603.9932   \nMISCELLANEOUS CHEMICAL PRODUCTS.                      7560.6767    7560.6767   \nNATURAL OR CULTURED PEARLS;PRECIOUS OR SEMIPREC...     918.6618     918.6618   \nNUCLEAR REACTORS; BOILERS, MACHINERY AND MECHAN...   83088.3433   83088.3433   \nOPTICAL; PHOTOGRAPHIC CINEMATOGRAPHIC MEASURING...    8349.4619    8349.4619   \nORGANIC CHEMICALS                                    49443.0604   49443.0604   \nPLASTIC AND ARTICLES THEREOF.                        16864.3907   16864.3907   \nVEHICLES OTHER THAN RAILWAY OR TRAMWAY ROLLING ...    7686.3916    7686.3916   \n\n                                                                              \\\nyear                                                       2005         2006   \ncommodity                                                                      \nAIRCRAFT; SPACECRAFT, AND PARTS THEREOF.                80.6369      80.6369   \nANIMAL OR VEGETABLE FATS AND OILS AND THEIR CLE...     109.3161     109.3161   \nARTICLES OF IRON OR STEEL                             9965.8349    9965.8349   \nELECTRICAL MACHINERY AND EQUIPMENT AND PARTS TH...  120181.9708  120181.9708   \nFERTILISERS.                                         12157.9383   12157.9383   \nINORGANIC CHEMICALS; ORGANIC OR INORGANIC COMPO...    4676.9453    4676.9453   \nIRON AND STEEL                                        7270.5377    7270.5377   \nMINERAL FUELS; MINERAL OILS AND PRODUCTS OF THE...    2603.9932    2603.9932   \nMISCELLANEOUS CHEMICAL PRODUCTS.                      7560.6767    7560.6767   \nNATURAL OR CULTURED PEARLS;PRECIOUS OR SEMIPREC...     918.6618     918.6618   \nNUCLEAR REACTORS; BOILERS, MACHINERY AND MECHAN...   83088.3433   83088.3433   \nOPTICAL; PHOTOGRAPHIC CINEMATOGRAPHIC MEASURING...    8349.4619    8349.4619   \nORGANIC CHEMICALS                                    49443.0604   49443.0604   \nPLASTIC AND ARTICLES THEREOF.                        16864.3907   16864.3907   \nVEHICLES OTHER THAN RAILWAY OR TRAMWAY ROLLING ...    7686.3916    7686.3916   \n\n                                                    ...               \\\nyear                                                ...         2010   \ncommodity                                           ...                \nAIRCRAFT; SPACECRAFT, AND PARTS THEREOF.            ...      80.6369   \nANIMAL OR VEGETABLE FATS AND OILS AND THEIR CLE...  ...     109.3161   \nARTICLES OF IRON OR STEEL                           ...    9965.8349   \nELECTRICAL MACHINERY AND EQUIPMENT AND PARTS TH...  ...  120181.9708   \nFERTILISERS.                                        ...   12157.9383   \nINORGANIC CHEMICALS; ORGANIC OR INORGANIC COMPO...  ...    4676.9453   \nIRON AND STEEL                                      ...    7270.5377   \nMINERAL FUELS; MINERAL OILS AND PRODUCTS OF THE...  ...    2603.9932   \nMISCELLANEOUS CHEMICAL PRODUCTS.                    ...    7560.6767   \nNATURAL OR CULTURED PEARLS;PRECIOUS OR SEMIPREC...  ...     918.6618   \nNUCLEAR REACTORS; BOILERS, MACHINERY AND MECHAN...  ...   83088.3433   \nOPTICAL; PHOTOGRAPHIC CINEMATOGRAPHIC MEASURING...  ...    8349.4619   \nORGANIC CHEMICALS                                   ...   49443.0604   \nPLASTIC AND ARTICLES THEREOF.                       ...   16864.3907   \nVEHICLES OTHER THAN RAILWAY OR TRAMWAY ROLLING ...  ...    7686.3916   \n\n                                                                              \\\nyear                                                       2011         2012   \ncommodity                                                                      \nAIRCRAFT; SPACECRAFT, AND PARTS THEREOF.                80.6369      80.6369   \nANIMAL OR VEGETABLE FATS AND OILS AND THEIR CLE...     109.3161     109.3161   \nARTICLES OF IRON OR STEEL                             9965.8349    9965.8349   \nELECTRICAL MACHINERY AND EQUIPMENT AND PARTS TH...  120181.9708  120181.9708   \nFERTILISERS.                                         12157.9383   12157.9383   \nINORGANIC CHEMICALS; ORGANIC OR INORGANIC COMPO...    4676.9453    4676.9453   \nIRON AND STEEL                                        7270.5377    7270.5377   \nMINERAL FUELS; MINERAL OILS AND PRODUCTS OF THE...    2603.9932    2603.9932   \nMISCELLANEOUS CHEMICAL PRODUCTS.                      7560.6767    7560.6767   \nNATURAL OR CULTURED PEARLS;PRECIOUS OR SEMIPREC...     918.6618     918.6618   \nNUCLEAR REACTORS; BOILERS, MACHINERY AND MECHAN...   83088.3433   83088.3433   \nOPTICAL; PHOTOGRAPHIC CINEMATOGRAPHIC MEASURING...    8349.4619    8349.4619   \nORGANIC CHEMICALS                                    49443.0604   49443.0604   \nPLASTIC AND ARTICLES THEREOF.                        16864.3907   16864.3907   \nVEHICLES OTHER THAN RAILWAY OR TRAMWAY ROLLING ...    7686.3916    7686.3916   \n\n                                                                              \\\nyear                                                       2013         2014   \ncommodity                                                                      \nAIRCRAFT; SPACECRAFT, AND PARTS THEREOF.                80.6369      80.6369   \nANIMAL OR VEGETABLE FATS AND OILS AND THEIR CLE...     109.3161     109.3161   \nARTICLES OF IRON OR STEEL                             9965.8349    9965.8349   \nELECTRICAL MACHINERY AND EQUIPMENT AND PARTS TH...  120181.9708  120181.9708   \nFERTILISERS.                                         12157.9383   12157.9383   \nINORGANIC CHEMICALS; ORGANIC OR INORGANIC COMPO...    4676.9453    4676.9453   \nIRON AND STEEL                                        7270.5377    7270.5377   \nMINERAL FUELS; MINERAL OILS AND PRODUCTS OF THE...    2603.9932    2603.9932   \nMISCELLANEOUS CHEMICAL PRODUCTS.                      7560.6767    7560.6767   \nNATURAL OR CULTURED PEARLS;PRECIOUS OR SEMIPREC...     918.6618     918.6618   \nNUCLEAR REACTORS; BOILERS, MACHINERY AND MECHAN...   83088.3433   83088.3433   \nOPTICAL; PHOTOGRAPHIC CINEMATOGRAPHIC MEASURING...    8349.4619    8349.4619   \nORGANIC CHEMICALS                                    49443.0604   49443.0604   \nPLASTIC AND ARTICLES THEREOF.                        16864.3907   16864.3907   \nVEHICLES OTHER THAN RAILWAY OR TRAMWAY ROLLING ...    7686.3916    7686.3916   \n\n                                                                              \\\nyear                                                       2015         2016   \ncommodity                                                                      \nAIRCRAFT; SPACECRAFT, AND PARTS THEREOF.                80.6369      80.6369   \nANIMAL OR VEGETABLE FATS AND OILS AND THEIR CLE...     109.3161     109.3161   \nARTICLES OF IRON OR STEEL                             9965.8349    9965.8349   \nELECTRICAL MACHINERY AND EQUIPMENT AND PARTS TH...  120181.9708  120181.9708   \nFERTILISERS.                                         12157.9383   12157.9383   \nINORGANIC CHEMICALS; ORGANIC OR INORGANIC COMPO...    4676.9453    4676.9453   \nIRON AND STEEL                                        7270.5377    7270.5377   \nMINERAL FUELS; MINERAL OILS AND PRODUCTS OF THE...    2603.9932    2603.9932   \nMISCELLANEOUS CHEMICAL PRODUCTS.                      7560.6767    7560.6767   \nNATURAL OR CULTURED PEARLS;PRECIOUS OR SEMIPREC...     918.6618     918.6618   \nNUCLEAR REACTORS; BOILERS, MACHINERY AND MECHAN...   83088.3433   83088.3433   \nOPTICAL; PHOTOGRAPHIC CINEMATOGRAPHIC MEASURING...    8349.4619    8349.4619   \nORGANIC CHEMICALS                                    49443.0604   49443.0604   \nPLASTIC AND ARTICLES THEREOF.                        16864.3907   16864.3907   \nVEHICLES OTHER THAN RAILWAY OR TRAMWAY ROLLING ...    7686.3916    7686.3916   \n\n                                                                              \\\nyear                                                       2017         2018   \ncommodity                                                                      \nAIRCRAFT; SPACECRAFT, AND PARTS THEREOF.                80.6369      80.6369   \nANIMAL OR VEGETABLE FATS AND OILS AND THEIR CLE...     109.3161     109.3161   \nARTICLES OF IRON OR STEEL                             9965.8349    9965.8349   \nELECTRICAL MACHINERY AND EQUIPMENT AND PARTS TH...  120181.9708  120181.9708   \nFERTILISERS.                                         12157.9383   12157.9383   \nINORGANIC CHEMICALS; ORGANIC OR INORGANIC COMPO...    4676.9453    4676.9453   \nIRON AND STEEL                                        7270.5377    7270.5377   \nMINERAL FUELS; MINERAL OILS AND PRODUCTS OF THE...    2603.9932    2603.9932   \nMISCELLANEOUS CHEMICAL PRODUCTS.                      7560.6767    7560.6767   \nNATURAL OR CULTURED PEARLS;PRECIOUS OR SEMIPREC...     918.6618     918.6618   \nNUCLEAR REACTORS; BOILERS, MACHINERY AND MECHAN...   83088.3433   83088.3433   \nOPTICAL; PHOTOGRAPHIC CINEMATOGRAPHIC MEASURING...    8349.4619    8349.4619   \nORGANIC CHEMICALS                                    49443.0604   49443.0604   \nPLASTIC AND ARTICLES THEREOF.                        16864.3907   16864.3907   \nVEHICLES OTHER THAN RAILWAY OR TRAMWAY ROLLING ...    7686.3916    7686.3916   \n\n                                                                 \nyear                                                       2019  \ncommodity                                                        \nAIRCRAFT; SPACECRAFT, AND PARTS THEREOF.                80.6369  \nANIMAL OR VEGETABLE FATS AND OILS AND THEIR CLE...     109.3161  \nARTICLES OF IRON OR STEEL                             9965.8349  \nELECTRICAL MACHINERY AND EQUIPMENT AND PARTS TH...  120181.9708  \nFERTILISERS.                                         12157.9383  \nINORGANIC CHEMICALS; ORGANIC OR INORGANIC COMPO...    4676.9453  \nIRON AND STEEL                                        7270.5377  \nMINERAL FUELS; MINERAL OILS AND PRODUCTS OF THE...    2603.9932  \nMISCELLANEOUS CHEMICAL PRODUCTS.                      7560.6767  \nNATURAL OR CULTURED PEARLS;PRECIOUS OR SEMIPREC...     918.6618  \nNUCLEAR REACTORS; BOILERS, MACHINERY AND MECHAN...   83088.3433  \nOPTICAL; PHOTOGRAPHIC CINEMATOGRAPHIC MEASURING...    8349.4619  \nORGANIC CHEMICALS                                    49443.0604  \nPLASTIC AND ARTICLES THEREOF.                        16864.3907  \nVEHICLES OTHER THAN RAILWAY OR TRAMWAY ROLLING ...    7686.3916  \n\n[15 rows x 23 columns]",
      "text/html": "<div>\n<style scoped>\n    .dataframe tbody tr th:only-of-type {\n        vertical-align: middle;\n    }\n\n    .dataframe tbody tr th {\n        vertical-align: top;\n    }\n\n    .dataframe thead tr th {\n        text-align: left;\n    }\n\n    .dataframe thead tr:last-of-type th {\n        text-align: right;\n    }\n</style>\n<table border=\"1\" class=\"dataframe\">\n  <thead>\n    <tr>\n      <th></th>\n      <th colspan=\"21\" halign=\"left\">value</th>\n    </tr>\n    <tr>\n      <th>year</th>\n      <th>1997</th>\n      <th>1998</th>\n      <th>1999</th>\n      <th>2000</th>\n      <th>2001</th>\n      <th>2002</th>\n      <th>2003</th>\n      <th>2004</th>\n      <th>2005</th>\n      <th>2006</th>\n      <th>...</th>\n      <th>2010</th>\n      <th>2011</th>\n      <th>2012</th>\n      <th>2013</th>\n      <th>2014</th>\n      <th>2015</th>\n      <th>2016</th>\n      <th>2017</th>\n      <th>2018</th>\n      <th>2019</th>\n    </tr>\n    <tr>\n      <th>commodity</th>\n      <th></th>\n      <th></th>\n      <th></th>\n      <th></th>\n      <th></th>\n      <th></th>\n      <th></th>\n      <th></th>\n      <th></th>\n      <th></th>\n      <th></th>\n      <th></th>\n      <th></th>\n      <th></th>\n      <th></th>\n      <th></th>\n      <th></th>\n      <th></th>\n      <th></th>\n      <th></th>\n      <th></th>\n    </tr>\n  </thead>\n  <tbody>\n    <tr>\n      <th>AIRCRAFT; SPACECRAFT, AND PARTS THEREOF.</th>\n      <td>80.6369</td>\n      <td>80.6369</td>\n      <td>80.6369</td>\n      <td>80.6369</td>\n      <td>80.6369</td>\n      <td>80.6369</td>\n      <td>80.6369</td>\n      <td>80.6369</td>\n      <td>80.6369</td>\n      <td>80.6369</td>\n      <td>...</td>\n      <td>80.6369</td>\n      <td>80.6369</td>\n      <td>80.6369</td>\n      <td>80.6369</td>\n      <td>80.6369</td>\n      <td>80.6369</td>\n      <td>80.6369</td>\n      <td>80.6369</td>\n      <td>80.6369</td>\n      <td>80.6369</td>\n    </tr>\n    <tr>\n      <th>ANIMAL OR VEGETABLE FATS AND OILS AND THEIR CLEAVAGE PRODUCTS; PRE. EDIBLE FATS; ANIMAL OR VEGETABLE WAXEX.</th>\n      <td>109.3161</td>\n      <td>109.3161</td>\n      <td>109.3161</td>\n      <td>109.3161</td>\n      <td>109.3161</td>\n      <td>109.3161</td>\n      <td>109.3161</td>\n      <td>109.3161</td>\n      <td>109.3161</td>\n      <td>109.3161</td>\n      <td>...</td>\n      <td>109.3161</td>\n      <td>109.3161</td>\n      <td>109.3161</td>\n      <td>109.3161</td>\n      <td>109.3161</td>\n      <td>109.3161</td>\n      <td>109.3161</td>\n      <td>109.3161</td>\n      <td>109.3161</td>\n      <td>109.3161</td>\n    </tr>\n    <tr>\n      <th>ARTICLES OF IRON OR STEEL</th>\n      <td>9965.8349</td>\n      <td>9965.8349</td>\n      <td>9965.8349</td>\n      <td>9965.8349</td>\n      <td>9965.8349</td>\n      <td>9965.8349</td>\n      <td>9965.8349</td>\n      <td>9965.8349</td>\n      <td>9965.8349</td>\n      <td>9965.8349</td>\n      <td>...</td>\n      <td>9965.8349</td>\n      <td>9965.8349</td>\n      <td>9965.8349</td>\n      <td>9965.8349</td>\n      <td>9965.8349</td>\n      <td>9965.8349</td>\n      <td>9965.8349</td>\n      <td>9965.8349</td>\n      <td>9965.8349</td>\n      <td>9965.8349</td>\n    </tr>\n    <tr>\n      <th>ELECTRICAL MACHINERY AND EQUIPMENT AND PARTS THEREOF; SOUND RECORDERS AND REPRODUCERS; TELEVISION IMAGE AND SOUND RECORDERS AND REPRODUCERS,AND PARTS.</th>\n      <td>120181.9708</td>\n      <td>120181.9708</td>\n      <td>120181.9708</td>\n      <td>120181.9708</td>\n      <td>120181.9708</td>\n      <td>120181.9708</td>\n      <td>120181.9708</td>\n      <td>120181.9708</td>\n      <td>120181.9708</td>\n      <td>120181.9708</td>\n      <td>...</td>\n      <td>120181.9708</td>\n      <td>120181.9708</td>\n      <td>120181.9708</td>\n      <td>120181.9708</td>\n      <td>120181.9708</td>\n      <td>120181.9708</td>\n      <td>120181.9708</td>\n      <td>120181.9708</td>\n      <td>120181.9708</td>\n      <td>120181.9708</td>\n    </tr>\n    <tr>\n      <th>FERTILISERS.</th>\n      <td>12157.9383</td>\n      <td>12157.9383</td>\n      <td>12157.9383</td>\n      <td>12157.9383</td>\n      <td>12157.9383</td>\n      <td>12157.9383</td>\n      <td>12157.9383</td>\n      <td>12157.9383</td>\n      <td>12157.9383</td>\n      <td>12157.9383</td>\n      <td>...</td>\n      <td>12157.9383</td>\n      <td>12157.9383</td>\n      <td>12157.9383</td>\n      <td>12157.9383</td>\n      <td>12157.9383</td>\n      <td>12157.9383</td>\n      <td>12157.9383</td>\n      <td>12157.9383</td>\n      <td>12157.9383</td>\n      <td>12157.9383</td>\n    </tr>\n    <tr>\n      <th>INORGANIC CHEMICALS; ORGANIC OR INORGANIC COMPOUNDS OF PRECIOUS METALS; OF RARE-EARTH METALS, OR RADI. ELEM. OR OF ISOTOPES.</th>\n      <td>4676.9453</td>\n      <td>4676.9453</td>\n      <td>4676.9453</td>\n      <td>4676.9453</td>\n      <td>4676.9453</td>\n      <td>4676.9453</td>\n      <td>4676.9453</td>\n      <td>4676.9453</td>\n      <td>4676.9453</td>\n      <td>4676.9453</td>\n      <td>...</td>\n      <td>4676.9453</td>\n      <td>4676.9453</td>\n      <td>4676.9453</td>\n      <td>4676.9453</td>\n      <td>4676.9453</td>\n      <td>4676.9453</td>\n      <td>4676.9453</td>\n      <td>4676.9453</td>\n      <td>4676.9453</td>\n      <td>4676.9453</td>\n    </tr>\n    <tr>\n      <th>IRON AND STEEL</th>\n      <td>7270.5377</td>\n      <td>7270.5377</td>\n      <td>7270.5377</td>\n      <td>7270.5377</td>\n      <td>7270.5377</td>\n      <td>7270.5377</td>\n      <td>7270.5377</td>\n      <td>7270.5377</td>\n      <td>7270.5377</td>\n      <td>7270.5377</td>\n      <td>...</td>\n      <td>7270.5377</td>\n      <td>7270.5377</td>\n      <td>7270.5377</td>\n      <td>7270.5377</td>\n      <td>7270.5377</td>\n      <td>7270.5377</td>\n      <td>7270.5377</td>\n      <td>7270.5377</td>\n      <td>7270.5377</td>\n      <td>7270.5377</td>\n    </tr>\n    <tr>\n      <th>MINERAL FUELS; MINERAL OILS AND PRODUCTS OF THEIR DISTILLATION; BITUMINOUS SUBSTANCES; MINERAL WAXES.</th>\n      <td>2603.9932</td>\n      <td>2603.9932</td>\n      <td>2603.9932</td>\n      <td>2603.9932</td>\n      <td>2603.9932</td>\n      <td>2603.9932</td>\n      <td>2603.9932</td>\n      <td>2603.9932</td>\n      <td>2603.9932</td>\n      <td>2603.9932</td>\n      <td>...</td>\n      <td>2603.9932</td>\n      <td>2603.9932</td>\n      <td>2603.9932</td>\n      <td>2603.9932</td>\n      <td>2603.9932</td>\n      <td>2603.9932</td>\n      <td>2603.9932</td>\n      <td>2603.9932</td>\n      <td>2603.9932</td>\n      <td>2603.9932</td>\n    </tr>\n    <tr>\n      <th>MISCELLANEOUS CHEMICAL PRODUCTS.</th>\n      <td>7560.6767</td>\n      <td>7560.6767</td>\n      <td>7560.6767</td>\n      <td>7560.6767</td>\n      <td>7560.6767</td>\n      <td>7560.6767</td>\n      <td>7560.6767</td>\n      <td>7560.6767</td>\n      <td>7560.6767</td>\n      <td>7560.6767</td>\n      <td>...</td>\n      <td>7560.6767</td>\n      <td>7560.6767</td>\n      <td>7560.6767</td>\n      <td>7560.6767</td>\n      <td>7560.6767</td>\n      <td>7560.6767</td>\n      <td>7560.6767</td>\n      <td>7560.6767</td>\n      <td>7560.6767</td>\n      <td>7560.6767</td>\n    </tr>\n    <tr>\n      <th>NATURAL OR CULTURED PEARLS;PRECIOUS OR SEMIPRECIOUS STONES,PRE.METALS,CLAD WITH PRE.METAL AND ARTCLS THEREOF;IMIT.JEWLRY;COIN.</th>\n      <td>918.6618</td>\n      <td>918.6618</td>\n      <td>918.6618</td>\n      <td>918.6618</td>\n      <td>918.6618</td>\n      <td>918.6618</td>\n      <td>918.6618</td>\n      <td>918.6618</td>\n      <td>918.6618</td>\n      <td>918.6618</td>\n      <td>...</td>\n      <td>918.6618</td>\n      <td>918.6618</td>\n      <td>918.6618</td>\n      <td>918.6618</td>\n      <td>918.6618</td>\n      <td>918.6618</td>\n      <td>918.6618</td>\n      <td>918.6618</td>\n      <td>918.6618</td>\n      <td>918.6618</td>\n    </tr>\n    <tr>\n      <th>NUCLEAR REACTORS; BOILERS, MACHINERY AND MECHANICAL APPLIANCES; PARTS THEREOF.</th>\n      <td>83088.3433</td>\n      <td>83088.3433</td>\n      <td>83088.3433</td>\n      <td>83088.3433</td>\n      <td>83088.3433</td>\n      <td>83088.3433</td>\n      <td>83088.3433</td>\n      <td>83088.3433</td>\n      <td>83088.3433</td>\n      <td>83088.3433</td>\n      <td>...</td>\n      <td>83088.3433</td>\n      <td>83088.3433</td>\n      <td>83088.3433</td>\n      <td>83088.3433</td>\n      <td>83088.3433</td>\n      <td>83088.3433</td>\n      <td>83088.3433</td>\n      <td>83088.3433</td>\n      <td>83088.3433</td>\n      <td>83088.3433</td>\n    </tr>\n    <tr>\n      <th>OPTICAL; PHOTOGRAPHIC CINEMATOGRAPHIC MEASURING, CHECKING PRECISION, MEDICAL OR SURGICAL INST. AND APPARATUS PARTS AND ACCESSORIES THEREOF;</th>\n      <td>8349.4619</td>\n      <td>8349.4619</td>\n      <td>8349.4619</td>\n      <td>8349.4619</td>\n      <td>8349.4619</td>\n      <td>8349.4619</td>\n      <td>8349.4619</td>\n      <td>8349.4619</td>\n      <td>8349.4619</td>\n      <td>8349.4619</td>\n      <td>...</td>\n      <td>8349.4619</td>\n      <td>8349.4619</td>\n      <td>8349.4619</td>\n      <td>8349.4619</td>\n      <td>8349.4619</td>\n      <td>8349.4619</td>\n      <td>8349.4619</td>\n      <td>8349.4619</td>\n      <td>8349.4619</td>\n      <td>8349.4619</td>\n    </tr>\n    <tr>\n      <th>ORGANIC CHEMICALS</th>\n      <td>49443.0604</td>\n      <td>49443.0604</td>\n      <td>49443.0604</td>\n      <td>49443.0604</td>\n      <td>49443.0604</td>\n      <td>49443.0604</td>\n      <td>49443.0604</td>\n      <td>49443.0604</td>\n      <td>49443.0604</td>\n      <td>49443.0604</td>\n      <td>...</td>\n      <td>49443.0604</td>\n      <td>49443.0604</td>\n      <td>49443.0604</td>\n      <td>49443.0604</td>\n      <td>49443.0604</td>\n      <td>49443.0604</td>\n      <td>49443.0604</td>\n      <td>49443.0604</td>\n      <td>49443.0604</td>\n      <td>49443.0604</td>\n    </tr>\n    <tr>\n      <th>PLASTIC AND ARTICLES THEREOF.</th>\n      <td>16864.3907</td>\n      <td>16864.3907</td>\n      <td>16864.3907</td>\n      <td>16864.3907</td>\n      <td>16864.3907</td>\n      <td>16864.3907</td>\n      <td>16864.3907</td>\n      <td>16864.3907</td>\n      <td>16864.3907</td>\n      <td>16864.3907</td>\n      <td>...</td>\n      <td>16864.3907</td>\n      <td>16864.3907</td>\n      <td>16864.3907</td>\n      <td>16864.3907</td>\n      <td>16864.3907</td>\n      <td>16864.3907</td>\n      <td>16864.3907</td>\n      <td>16864.3907</td>\n      <td>16864.3907</td>\n      <td>16864.3907</td>\n    </tr>\n    <tr>\n      <th>VEHICLES OTHER THAN RAILWAY OR TRAMWAY ROLLING STOCK; AND PARTS AND ACCESSORIES THEREOF.</th>\n      <td>7686.3916</td>\n      <td>7686.3916</td>\n      <td>7686.3916</td>\n      <td>7686.3916</td>\n      <td>7686.3916</td>\n      <td>7686.3916</td>\n      <td>7686.3916</td>\n      <td>7686.3916</td>\n      <td>7686.3916</td>\n      <td>7686.3916</td>\n      <td>...</td>\n      <td>7686.3916</td>\n      <td>7686.3916</td>\n      <td>7686.3916</td>\n      <td>7686.3916</td>\n      <td>7686.3916</td>\n      <td>7686.3916</td>\n      <td>7686.3916</td>\n      <td>7686.3916</td>\n      <td>7686.3916</td>\n      <td>7686.3916</td>\n    </tr>\n  </tbody>\n</table>\n<p>15 rows × 23 columns</p>\n</div>"
     },
     "execution_count": 66,
     "metadata": {},
     "output_type": "execute_result"
    }
   ],
   "source": [
    "# import_top_commodity_data[import_top_commodity_data['country'] == 'CHINA P RP'].groupby(['commodity', 'year']).sum().unstack()\n"
   ],
   "metadata": {
    "collapsed": false,
    "pycharm": {
     "name": "#%%\n"
    }
   }
  },
  {
   "cell_type": "code",
   "execution_count": null,
   "outputs": [],
   "source": [
    "\n"
   ],
   "metadata": {
    "collapsed": false,
    "pycharm": {
     "name": "#%%\n"
    }
   }
  }
 ],
 "metadata": {
  "colab": {
   "authorship_tag": "ABX9TyODVnA8v/JiZfJVHlkptDrC",
   "collapsed_sections": [],
   "name": "india_import_export.ipynb",
   "provenance": []
  },
  "kernelspec": {
   "display_name": "Python 3.8.2 64-bit ('databank': conda)",
   "language": "python",
   "name": "python38264bitdatabankcondab2367512c51048828fb090a3542e1aa4"
  },
  "language_info": {
   "codemirror_mode": {
    "name": "ipython",
    "version": 3
   },
   "file_extension": ".py",
   "mimetype": "text/x-python",
   "name": "python",
   "nbconvert_exporter": "python",
   "pygments_lexer": "ipython3",
   "version": "3.8.2"
  }
 },
 "nbformat": 4,
 "nbformat_minor": 4
}